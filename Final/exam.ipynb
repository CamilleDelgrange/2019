{
 "cells": [
  {
   "cell_type": "markdown",
   "metadata": {},
   "source": [
    "# ADA final exam (winter semester 2019/2020)"
   ]
  },
  {
   "cell_type": "markdown",
   "metadata": {},
   "source": [
    "A friend of yours wants to start a YouTube channel and ideally earn some money via ads. However, there are so many channels and videos out there that your friend has no idea where to even start. Fortunately, they know that you have taken ADA and think you might help them out by analyzing the videos that are currently on YouTube."
   ]
  },
  {
   "cell_type": "markdown",
   "metadata": {},
   "source": [
    "The data you are provided with is a subset of YouTube videos, with videos from some of the giant channels in two categories: \"Gaming\" and \"How-to & Style\", which are the categories your friend is choosing between. The dataset contains a lot of videos, with data on those videos including their titles, their total number of views in 2019, their tags and descriptions, etc. The data is, in gzip-compressed format, contained in the `data/` folder, as the file `youtube.csv.gz`."
   ]
  },
  {
   "cell_type": "markdown",
   "metadata": {},
   "source": [
    "The three tasks A, B and C are **independent** of each other, and you can solve any combination of them. The exam is designed for more than 3 hours, so don't worry if you don't manage to solve everything; you can still score a 6."
   ]
  },
  {
   "cell_type": "markdown",
   "metadata": {},
   "source": [
    "You need to run the following two cells to read and prepare the dataset."
   ]
  },
  {
   "cell_type": "code",
   "execution_count": 3,
   "metadata": {},
   "outputs": [],
   "source": [
    "import pandas as pd\n",
    "import numpy as np"
   ]
  },
  {
   "cell_type": "code",
   "execution_count": 4,
   "metadata": {},
   "outputs": [],
   "source": [
    "youtube = pd.read_csv('data/youtube.csv.gz', compression='gzip')\n",
    "youtube.upload_date = pd.to_datetime(youtube.upload_date)"
   ]
  },
  {
   "cell_type": "markdown",
   "metadata": {},
   "source": [
    "## Dataset description"
   ]
  },
  {
   "cell_type": "markdown",
   "metadata": {},
   "source": [
    "Each row of the dataset corresponds to one video that was uploaded to YouTube. There are 11 columns:\n",
    "'channel', 'upload_date', 'title', 'categories', 'tags', 'duration',\n",
    "       'view_count', 'average_rating', 'height', 'width', 'channel_cat'.\n",
    "- `channel`: The channel (account) on which the video was uploaded.\n",
    "- `upload_date`: The date on which the video was uploaded (Pandas Timestamp object).\n",
    "- `title`: The title of the video.\n",
    "- `tags`: A list of words that describe the video.\n",
    "- `duration`: The duration of the video in seconds.\n",
    "- `view_count`: The number of times the video was watched.\n",
    "- `average_rating`: The average score with which the viewers rated the video (1-5).\n",
    "- `height`: The height of the video in pixels.\n",
    "- `width`: The width of the video in pixels.\n",
    "- `channel_cat`: The category of the channel on which this video was uploaded. This dataset only contains videos from channels from the 'Gaming' and the 'Howto & Style' category."
   ]
  },
  {
   "cell_type": "markdown",
   "metadata": {},
   "source": [
    "# Task A: Welcome to the exam!"
   ]
  },
  {
   "cell_type": "markdown",
   "metadata": {},
   "source": [
    "All of Task A refers to the videos that were published between and including 2010 and 2018."
   ]
  },
  {
   "cell_type": "markdown",
   "metadata": {},
   "source": [
    "## A1: A growing platform?"
   ]
  },
  {
   "cell_type": "markdown",
   "metadata": {},
   "source": [
    "You would first like to know whether YouTube in general is the right platform to invest time into."
   ]
  },
  {
   "cell_type": "markdown",
   "metadata": {},
   "source": [
    "1. Using the appropriate plot type, plot the number of videos published per year between and including 2010 and 2018."
   ]
  },
  {
   "cell_type": "code",
   "execution_count": 3,
   "metadata": {},
   "outputs": [
    {
     "data": {
      "text/html": [
       "<div>\n",
       "<style scoped>\n",
       "    .dataframe tbody tr th:only-of-type {\n",
       "        vertical-align: middle;\n",
       "    }\n",
       "\n",
       "    .dataframe tbody tr th {\n",
       "        vertical-align: top;\n",
       "    }\n",
       "\n",
       "    .dataframe thead th {\n",
       "        text-align: right;\n",
       "    }\n",
       "</style>\n",
       "<table border=\"1\" class=\"dataframe\">\n",
       "  <thead>\n",
       "    <tr style=\"text-align: right;\">\n",
       "      <th></th>\n",
       "      <th>channel</th>\n",
       "      <th>upload_date</th>\n",
       "      <th>title</th>\n",
       "      <th>tags</th>\n",
       "      <th>duration</th>\n",
       "      <th>view_count</th>\n",
       "      <th>average_rating</th>\n",
       "      <th>height</th>\n",
       "      <th>width</th>\n",
       "      <th>channel_cat</th>\n",
       "    </tr>\n",
       "  </thead>\n",
       "  <tbody>\n",
       "    <tr>\n",
       "      <th>0</th>\n",
       "      <td>PewDiePie</td>\n",
       "      <td>2013-03-04</td>\n",
       "      <td>A NEW ADVENTURE! - Kingdom Hearts (1) w/ Pewds</td>\n",
       "      <td>['lets', 'play', 'horror', 'game', 'walkthroug...</td>\n",
       "      <td>1126.0</td>\n",
       "      <td>2541550.0</td>\n",
       "      <td>4.886102</td>\n",
       "      <td>720.0</td>\n",
       "      <td>1280.0</td>\n",
       "      <td>Gaming</td>\n",
       "    </tr>\n",
       "    <tr>\n",
       "      <th>1</th>\n",
       "      <td>PewDiePie</td>\n",
       "      <td>2013-03-04</td>\n",
       "      <td>SAVING PRIVATE PEWDS - Conker's Bad Fur Day (15)</td>\n",
       "      <td>['lets', 'play', 'horror', 'game', 'walkthroug...</td>\n",
       "      <td>903.0</td>\n",
       "      <td>1727646.0</td>\n",
       "      <td>4.951531</td>\n",
       "      <td>720.0</td>\n",
       "      <td>1280.0</td>\n",
       "      <td>Gaming</td>\n",
       "    </tr>\n",
       "    <tr>\n",
       "      <th>2</th>\n",
       "      <td>PewDiePie</td>\n",
       "      <td>2013-03-04</td>\n",
       "      <td>THE WORST SCARE! - Amnesia: Rain (4)</td>\n",
       "      <td>['lets', 'play', 'horror', 'game', 'walkthroug...</td>\n",
       "      <td>806.0</td>\n",
       "      <td>1402747.0</td>\n",
       "      <td>4.962706</td>\n",
       "      <td>720.0</td>\n",
       "      <td>1280.0</td>\n",
       "      <td>Gaming</td>\n",
       "    </tr>\n",
       "    <tr>\n",
       "      <th>3</th>\n",
       "      <td>PewDiePie</td>\n",
       "      <td>2013-03-03</td>\n",
       "      <td>Nova / Sp00n / Cry / Pewds - Worms Revolution ...</td>\n",
       "      <td>['lets', 'play', 'horror', 'game', 'walkthroug...</td>\n",
       "      <td>909.0</td>\n",
       "      <td>4348296.0</td>\n",
       "      <td>4.937665</td>\n",
       "      <td>720.0</td>\n",
       "      <td>1280.0</td>\n",
       "      <td>Gaming</td>\n",
       "    </tr>\n",
       "    <tr>\n",
       "      <th>4</th>\n",
       "      <td>PewDiePie</td>\n",
       "      <td>2013-03-03</td>\n",
       "      <td>SEXIEST HORROR EVER - Amnesia: Rain (3)</td>\n",
       "      <td>['lets', 'play', 'horror', 'game', 'walkthroug...</td>\n",
       "      <td>834.0</td>\n",
       "      <td>1410659.0</td>\n",
       "      <td>4.957545</td>\n",
       "      <td>720.0</td>\n",
       "      <td>1280.0</td>\n",
       "      <td>Gaming</td>\n",
       "    </tr>\n",
       "  </tbody>\n",
       "</table>\n",
       "</div>"
      ],
      "text/plain": [
       "     channel upload_date                                              title  \\\n",
       "0  PewDiePie  2013-03-04     A NEW ADVENTURE! - Kingdom Hearts (1) w/ Pewds   \n",
       "1  PewDiePie  2013-03-04   SAVING PRIVATE PEWDS - Conker's Bad Fur Day (15)   \n",
       "2  PewDiePie  2013-03-04               THE WORST SCARE! - Amnesia: Rain (4)   \n",
       "3  PewDiePie  2013-03-03  Nova / Sp00n / Cry / Pewds - Worms Revolution ...   \n",
       "4  PewDiePie  2013-03-03            SEXIEST HORROR EVER - Amnesia: Rain (3)   \n",
       "\n",
       "                                                tags  duration  view_count  \\\n",
       "0  ['lets', 'play', 'horror', 'game', 'walkthroug...    1126.0   2541550.0   \n",
       "1  ['lets', 'play', 'horror', 'game', 'walkthroug...     903.0   1727646.0   \n",
       "2  ['lets', 'play', 'horror', 'game', 'walkthroug...     806.0   1402747.0   \n",
       "3  ['lets', 'play', 'horror', 'game', 'walkthroug...     909.0   4348296.0   \n",
       "4  ['lets', 'play', 'horror', 'game', 'walkthroug...     834.0   1410659.0   \n",
       "\n",
       "   average_rating  height   width channel_cat  \n",
       "0        4.886102   720.0  1280.0      Gaming  \n",
       "1        4.951531   720.0  1280.0      Gaming  \n",
       "2        4.962706   720.0  1280.0      Gaming  \n",
       "3        4.937665   720.0  1280.0      Gaming  \n",
       "4        4.957545   720.0  1280.0      Gaming  "
      ]
     },
     "execution_count": 3,
     "metadata": {},
     "output_type": "execute_result"
    }
   ],
   "source": [
    "# First, we inspect the data:\n",
    "youtube.head()"
   ]
  },
  {
   "cell_type": "code",
   "execution_count": 143,
   "metadata": {},
   "outputs": [
    {
     "name": "stdout",
     "output_type": "stream",
     "text": [
      "channel           139507\n",
      "upload_date       139507\n",
      "title             139507\n",
      "tags              139507\n",
      "duration          139507\n",
      "view_count        139507\n",
      "average_rating    139507\n",
      "height            139507\n",
      "width             139507\n",
      "channel_cat       139507\n",
      "dtype: int64\n",
      "139507\n"
     ]
    }
   ],
   "source": [
    "# Then, we search for NaN values:\n",
    "print(youtube.notna().sum())\n",
    "print(len(youtube))"
   ]
  },
  {
   "cell_type": "code",
   "execution_count": 151,
   "metadata": {},
   "outputs": [
    {
     "name": "stdout",
     "output_type": "stream",
     "text": [
      "139507\n",
      "127863\n"
     ]
    },
    {
     "data": {
      "text/plain": [
       "Text(0.5, 0, 'Years')"
      ]
     },
     "execution_count": 151,
     "metadata": {},
     "output_type": "execute_result"
    },
    {
     "data": {
      "image/png": "[encoded data removed]",
      "text/plain": [
       "<Figure size 640x480 with 1 Axes>"
      ]
     },
     "metadata": {},
     "output_type": "display_data"
    }
   ],
   "source": [
    "# First, we select the correct time range: \n",
    "years = youtube['upload_date'].dt.year\n",
    "print(len(years))\n",
    "years = years.loc[years.apply(lambda x: x>=2010 and x <= 2018)]\n",
    "print(len(years))\n",
    "# Then, we produce the barplot:\n",
    "import matplotlib.pyplot as plt\n",
    "plot = youtube.groupby(years)['title'].count().plot(kind='bar', title = 'Number of videos published by year [2010-2018]')\n",
    "plot.set_ylabel('Number of videos')\n",
    "plot.set_xlabel('Years')"
   ]
  },
  {
   "cell_type": "markdown",
   "metadata": {},
   "source": [
    "2. Now for each year, plot the number of channels that have been created between the beginning of 2010 and the end of that year. A channel is considered to be created at the time at which they upload their first video."
   ]
  },
  {
   "cell_type": "code",
   "execution_count": 451,
   "metadata": {},
   "outputs": [
    {
     "data": {
      "text/html": [
       "<div>\n",
       "<style scoped>\n",
       "    .dataframe tbody tr th:only-of-type {\n",
       "        vertical-align: middle;\n",
       "    }\n",
       "\n",
       "    .dataframe tbody tr th {\n",
       "        vertical-align: top;\n",
       "    }\n",
       "\n",
       "    .dataframe thead th {\n",
       "        text-align: right;\n",
       "    }\n",
       "</style>\n",
       "<table border=\"1\" class=\"dataframe\">\n",
       "  <thead>\n",
       "    <tr style=\"text-align: right;\">\n",
       "      <th></th>\n",
       "      <th>upload_date</th>\n",
       "      <th>channel</th>\n",
       "    </tr>\n",
       "  </thead>\n",
       "  <tbody>\n",
       "    <tr>\n",
       "      <th>95637</th>\n",
       "      <td>2010-01-01</td>\n",
       "      <td>ATHLEAN-X™</td>\n",
       "    </tr>\n",
       "    <tr>\n",
       "      <th>131744</th>\n",
       "      <td>2010-01-01</td>\n",
       "      <td>Wayne Goss</td>\n",
       "    </tr>\n",
       "    <tr>\n",
       "      <th>55566</th>\n",
       "      <td>2010-01-01</td>\n",
       "      <td>SeaNanners Gaming Channel</td>\n",
       "    </tr>\n",
       "    <tr>\n",
       "      <th>125321</th>\n",
       "      <td>2010-01-01</td>\n",
       "      <td>ThreadBanger</td>\n",
       "    </tr>\n",
       "    <tr>\n",
       "      <th>130764</th>\n",
       "      <td>2010-01-02</td>\n",
       "      <td>Ingrid Nilsen</td>\n",
       "    </tr>\n",
       "  </tbody>\n",
       "</table>\n",
       "</div>"
      ],
      "text/plain": [
       "       upload_date                    channel\n",
       "95637   2010-01-01                 ATHLEAN-X™\n",
       "131744  2010-01-01                 Wayne Goss\n",
       "55566   2010-01-01  SeaNanners Gaming Channel\n",
       "125321  2010-01-01               ThreadBanger\n",
       "130764  2010-01-02              Ingrid Nilsen"
      ]
     },
     "execution_count": 451,
     "metadata": {},
     "output_type": "execute_result"
    }
   ],
   "source": [
    "# First, we select the corresponding years and sort the upload_date, to keep only the first mention of channel creation (uploading of the first video), each video being one row:\n",
    "channels = youtube.loc[(youtube.upload_date.dt.year <= 2018) & (youtube.upload_date.dt.year >= 2010),['upload_date','channel']].sort_values(\"upload_date\", ascending = True)\n",
    "channels = channels.drop_duplicates(subset = ['channel'], keep='first') # Here, really precise the subset otherwise it does not take the column into account !!\n",
    "channels.head(5) # here, we keep only once the name of a channel from the first time it appears in the publication dates"
   ]
  },
  {
   "cell_type": "code",
   "execution_count": null,
   "metadata": {},
   "outputs": [],
   "source": [
    "# Careful, just filtering by years does not allow to remove channels created before 2010!!!"
   ]
  },
  {
   "cell_type": "code",
   "execution_count": 440,
   "metadata": {},
   "outputs": [
    {
     "data": {
      "text/html": [
       "<div>\n",
       "<style scoped>\n",
       "    .dataframe tbody tr th:only-of-type {\n",
       "        vertical-align: middle;\n",
       "    }\n",
       "\n",
       "    .dataframe tbody tr th {\n",
       "        vertical-align: top;\n",
       "    }\n",
       "\n",
       "    .dataframe thead th {\n",
       "        text-align: right;\n",
       "    }\n",
       "</style>\n",
       "<table border=\"1\" class=\"dataframe\">\n",
       "  <thead>\n",
       "    <tr style=\"text-align: right;\">\n",
       "      <th></th>\n",
       "      <th>channel</th>\n",
       "      <th>upload_date</th>\n",
       "      <th>title</th>\n",
       "      <th>tags</th>\n",
       "      <th>duration</th>\n",
       "      <th>view_count</th>\n",
       "      <th>average_rating</th>\n",
       "      <th>height</th>\n",
       "      <th>width</th>\n",
       "      <th>channel_cat</th>\n",
       "    </tr>\n",
       "  </thead>\n",
       "  <tbody>\n",
       "    <tr>\n",
       "      <th>105128</th>\n",
       "      <td>dope2111</td>\n",
       "      <td>2010-01-12</td>\n",
       "      <td>Avatar  Make-up !!!!(Neytiri)</td>\n",
       "      <td>[]</td>\n",
       "      <td>88.0</td>\n",
       "      <td>2181256.0</td>\n",
       "      <td>4.764856</td>\n",
       "      <td>480.0</td>\n",
       "      <td>640.0</td>\n",
       "      <td>Howto &amp; Style</td>\n",
       "    </tr>\n",
       "    <tr>\n",
       "      <th>134894</th>\n",
       "      <td>Laura in the Kitchen</td>\n",
       "      <td>2010-01-17</td>\n",
       "      <td>Molten Chocolate Lava Cake Recipe - Laura Vita...</td>\n",
       "      <td>['to', 'how', 'recipe', 'cooking', 'easy', 'ki...</td>\n",
       "      <td>567.0</td>\n",
       "      <td>927540.0</td>\n",
       "      <td>4.663537</td>\n",
       "      <td>480.0</td>\n",
       "      <td>640.0</td>\n",
       "      <td>Howto &amp; Style</td>\n",
       "    </tr>\n",
       "    <tr>\n",
       "      <th>139505</th>\n",
       "      <td>cutepolish</td>\n",
       "      <td>2010-02-20</td>\n",
       "      <td>Easy Plaid Nails</td>\n",
       "      <td>['easy', 'makeup', 'beauty', 'fashion']</td>\n",
       "      <td>174.0</td>\n",
       "      <td>247053.0</td>\n",
       "      <td>4.855700</td>\n",
       "      <td>480.0</td>\n",
       "      <td>640.0</td>\n",
       "      <td>Howto &amp; Style</td>\n",
       "    </tr>\n",
       "    <tr>\n",
       "      <th>112055</th>\n",
       "      <td>SixPackAbs.com</td>\n",
       "      <td>2010-03-01</td>\n",
       "      <td>How To Get A Six Pack - With Six Pack Shortcut...</td>\n",
       "      <td>['fitness']</td>\n",
       "      <td>659.0</td>\n",
       "      <td>1658673.0</td>\n",
       "      <td>4.461918</td>\n",
       "      <td>240.0</td>\n",
       "      <td>320.0</td>\n",
       "      <td>Howto &amp; Style</td>\n",
       "    </tr>\n",
       "    <tr>\n",
       "      <th>20880</th>\n",
       "      <td>theRadBrad</td>\n",
       "      <td>2010-04-07</td>\n",
       "      <td>Modern Warfare 2: theRadBrad's Random Clips</td>\n",
       "      <td>['Gameplay', 'Commentary', 'of']</td>\n",
       "      <td>133.0</td>\n",
       "      <td>20394.0</td>\n",
       "      <td>4.939164</td>\n",
       "      <td>720.0</td>\n",
       "      <td>1280.0</td>\n",
       "      <td>Gaming</td>\n",
       "    </tr>\n",
       "    <tr>\n",
       "      <th>...</th>\n",
       "      <td>...</td>\n",
       "      <td>...</td>\n",
       "      <td>...</td>\n",
       "      <td>...</td>\n",
       "      <td>...</td>\n",
       "      <td>...</td>\n",
       "      <td>...</td>\n",
       "      <td>...</td>\n",
       "      <td>...</td>\n",
       "      <td>...</td>\n",
       "    </tr>\n",
       "    <tr>\n",
       "      <th>88635</th>\n",
       "      <td>5-Minute Crafts PLAY</td>\n",
       "      <td>2017-11-08</td>\n",
       "      <td>9 PLANT DIYs KIDS WILL LOVE TO MAKE</td>\n",
       "      <td>['5-Minute Crafts', 'DIY', 'Do it yourself', '...</td>\n",
       "      <td>397.0</td>\n",
       "      <td>17385.0</td>\n",
       "      <td>4.874126</td>\n",
       "      <td>1080.0</td>\n",
       "      <td>1920.0</td>\n",
       "      <td>Howto &amp; Style</td>\n",
       "    </tr>\n",
       "    <tr>\n",
       "      <th>63332</th>\n",
       "      <td>Daequan Loco</td>\n",
       "      <td>2017-11-18</td>\n",
       "      <td>Solo vs. SQUAD Win - 18 Kills Fortnite Battle ...</td>\n",
       "      <td>['fortnite', 'pvp']</td>\n",
       "      <td>776.0</td>\n",
       "      <td>220201.0</td>\n",
       "      <td>4.958050</td>\n",
       "      <td>720.0</td>\n",
       "      <td>1280.0</td>\n",
       "      <td>Gaming</td>\n",
       "    </tr>\n",
       "    <tr>\n",
       "      <th>91987</th>\n",
       "      <td>Crafty Panda</td>\n",
       "      <td>2017-12-15</td>\n",
       "      <td>7 Amazing DIY Christmas Decorations Made From ...</td>\n",
       "      <td>['diy', 'how to']</td>\n",
       "      <td>141.0</td>\n",
       "      <td>95194.0</td>\n",
       "      <td>4.833223</td>\n",
       "      <td>1080.0</td>\n",
       "      <td>1920.0</td>\n",
       "      <td>Howto &amp; Style</td>\n",
       "    </tr>\n",
       "    <tr>\n",
       "      <th>86285</th>\n",
       "      <td>5-Minute Crafts GIRLY</td>\n",
       "      <td>2018-01-23</td>\n",
       "      <td>20 EASY CAR DRIVING HACKS FOR WOMEN</td>\n",
       "      <td>['5-Minute Crafts', 'DIY', 'Do it yourself', '...</td>\n",
       "      <td>799.0</td>\n",
       "      <td>6813.0</td>\n",
       "      <td>4.441176</td>\n",
       "      <td>1080.0</td>\n",
       "      <td>1920.0</td>\n",
       "      <td>Howto &amp; Style</td>\n",
       "    </tr>\n",
       "    <tr>\n",
       "      <th>132109</th>\n",
       "      <td>Antonio Garza</td>\n",
       "      <td>2018-02-04</td>\n",
       "      <td>VALANTINES HEART CUT CREASE MAKEUP LOOK</td>\n",
       "      <td>['funny', 'tutorial', 'makeup tutorial', 'fun'...</td>\n",
       "      <td>687.0</td>\n",
       "      <td>1790845.0</td>\n",
       "      <td>4.969677</td>\n",
       "      <td>1080.0</td>\n",
       "      <td>1920.0</td>\n",
       "      <td>Howto &amp; Style</td>\n",
       "    </tr>\n",
       "  </tbody>\n",
       "</table>\n",
       "<p>164 rows × 10 columns</p>\n",
       "</div>"
      ],
      "text/plain": [
       "                      channel upload_date  \\\n",
       "105128               dope2111  2010-01-12   \n",
       "134894   Laura in the Kitchen  2010-01-17   \n",
       "139505             cutepolish  2010-02-20   \n",
       "112055         SixPackAbs.com  2010-03-01   \n",
       "20880              theRadBrad  2010-04-07   \n",
       "...                       ...         ...   \n",
       "88635    5-Minute Crafts PLAY  2017-11-08   \n",
       "63332            Daequan Loco  2017-11-18   \n",
       "91987            Crafty Panda  2017-12-15   \n",
       "86285   5-Minute Crafts GIRLY  2018-01-23   \n",
       "132109          Antonio Garza  2018-02-04   \n",
       "\n",
       "                                                    title  \\\n",
       "105128                      Avatar  Make-up !!!!(Neytiri)   \n",
       "134894  Molten Chocolate Lava Cake Recipe - Laura Vita...   \n",
       "139505                                   Easy Plaid Nails   \n",
       "112055  How To Get A Six Pack - With Six Pack Shortcut...   \n",
       "20880         Modern Warfare 2: theRadBrad's Random Clips   \n",
       "...                                                   ...   \n",
       "88635                 9 PLANT DIYs KIDS WILL LOVE TO MAKE   \n",
       "63332   Solo vs. SQUAD Win - 18 Kills Fortnite Battle ...   \n",
       "91987   7 Amazing DIY Christmas Decorations Made From ...   \n",
       "86285                 20 EASY CAR DRIVING HACKS FOR WOMEN   \n",
       "132109            VALANTINES HEART CUT CREASE MAKEUP LOOK   \n",
       "\n",
       "                                                     tags  duration  \\\n",
       "105128                                                 []      88.0   \n",
       "134894  ['to', 'how', 'recipe', 'cooking', 'easy', 'ki...     567.0   \n",
       "139505            ['easy', 'makeup', 'beauty', 'fashion']     174.0   \n",
       "112055                                        ['fitness']     659.0   \n",
       "20880                    ['Gameplay', 'Commentary', 'of']     133.0   \n",
       "...                                                   ...       ...   \n",
       "88635   ['5-Minute Crafts', 'DIY', 'Do it yourself', '...     397.0   \n",
       "63332                                 ['fortnite', 'pvp']     776.0   \n",
       "91987                                   ['diy', 'how to']     141.0   \n",
       "86285   ['5-Minute Crafts', 'DIY', 'Do it yourself', '...     799.0   \n",
       "132109  ['funny', 'tutorial', 'makeup tutorial', 'fun'...     687.0   \n",
       "\n",
       "        view_count  average_rating  height   width    channel_cat  \n",
       "105128   2181256.0        4.764856   480.0   640.0  Howto & Style  \n",
       "134894    927540.0        4.663537   480.0   640.0  Howto & Style  \n",
       "139505    247053.0        4.855700   480.0   640.0  Howto & Style  \n",
       "112055   1658673.0        4.461918   240.0   320.0  Howto & Style  \n",
       "20880      20394.0        4.939164   720.0  1280.0         Gaming  \n",
       "...            ...             ...     ...     ...            ...  \n",
       "88635      17385.0        4.874126  1080.0  1920.0  Howto & Style  \n",
       "63332     220201.0        4.958050   720.0  1280.0         Gaming  \n",
       "91987      95194.0        4.833223  1080.0  1920.0  Howto & Style  \n",
       "86285       6813.0        4.441176  1080.0  1920.0  Howto & Style  \n",
       "132109   1790845.0        4.969677  1080.0  1920.0  Howto & Style  \n",
       "\n",
       "[164 rows x 10 columns]"
      ]
     },
     "execution_count": 440,
     "metadata": {},
     "output_type": "execute_result"
    }
   ],
   "source": [
    "# Alternative with less channels:\n",
    "new_channels = youtube[~youtube.channel.isin(youtube.channel[youtube.upload_date < np.datetime64('2010-01-01')].unique())]\n",
    "new_channels.sort_values('upload_date', ascending=True).drop_duplicates(subset=['channel'], keep='first')"
   ]
  },
  {
   "cell_type": "code",
   "execution_count": 423,
   "metadata": {},
   "outputs": [
    {
     "data": {
      "text/html": [
       "<div>\n",
       "<style scoped>\n",
       "    .dataframe tbody tr th:only-of-type {\n",
       "        vertical-align: middle;\n",
       "    }\n",
       "\n",
       "    .dataframe tbody tr th {\n",
       "        vertical-align: top;\n",
       "    }\n",
       "\n",
       "    .dataframe thead th {\n",
       "        text-align: right;\n",
       "    }\n",
       "</style>\n",
       "<table border=\"1\" class=\"dataframe\">\n",
       "  <thead>\n",
       "    <tr style=\"text-align: right;\">\n",
       "      <th></th>\n",
       "      <th>channel</th>\n",
       "    </tr>\n",
       "    <tr>\n",
       "      <th>upload_date</th>\n",
       "      <th></th>\n",
       "    </tr>\n",
       "  </thead>\n",
       "  <tbody>\n",
       "    <tr>\n",
       "      <th>2010</th>\n",
       "      <td>49</td>\n",
       "    </tr>\n",
       "    <tr>\n",
       "      <th>2011</th>\n",
       "      <td>76</td>\n",
       "    </tr>\n",
       "    <tr>\n",
       "      <th>2012</th>\n",
       "      <td>112</td>\n",
       "    </tr>\n",
       "    <tr>\n",
       "      <th>2013</th>\n",
       "      <td>133</td>\n",
       "    </tr>\n",
       "    <tr>\n",
       "      <th>2014</th>\n",
       "      <td>151</td>\n",
       "    </tr>\n",
       "    <tr>\n",
       "      <th>2015</th>\n",
       "      <td>164</td>\n",
       "    </tr>\n",
       "    <tr>\n",
       "      <th>2016</th>\n",
       "      <td>176</td>\n",
       "    </tr>\n",
       "    <tr>\n",
       "      <th>2017</th>\n",
       "      <td>193</td>\n",
       "    </tr>\n",
       "    <tr>\n",
       "      <th>2018</th>\n",
       "      <td>195</td>\n",
       "    </tr>\n",
       "  </tbody>\n",
       "</table>\n",
       "</div>"
      ],
      "text/plain": [
       "             channel\n",
       "upload_date         \n",
       "2010              49\n",
       "2011              76\n",
       "2012             112\n",
       "2013             133\n",
       "2014             151\n",
       "2015             164\n",
       "2016             176\n",
       "2017             193\n",
       "2018             195"
      ]
     },
     "execution_count": 423,
     "metadata": {},
     "output_type": "execute_result"
    }
   ],
   "source": [
    "# Then, we count the cumulative number of channels per year :\n",
    "channels_count = channels.groupby(channels.upload_date.dt.year).count()+ \\\n",
    "            pd.DataFrame(data={'channel': [0]*(2018-2010+1), \n",
    "            'upload_year':list(range(2010,2018+1))}).set_index('upload_year')\n",
    "channels_count = channels_count.fillna(0).cumsum().drop(columns=\"upload_date\")\n",
    "channels_count"
   ]
  },
  {
   "cell_type": "code",
   "execution_count": 424,
   "metadata": {},
   "outputs": [
    {
     "data": {
      "text/plain": [
       "Text(0.5, 0, 'Years')"
      ]
     },
     "execution_count": 424,
     "metadata": {},
     "output_type": "execute_result"
    },
    {
     "data": {
      "image/png": "[encoded data removed]",
      "text/plain": [
       "<Figure size 640x480 with 1 Axes>"
      ]
     },
     "metadata": {},
     "output_type": "display_data"
    }
   ],
   "source": [
    "# For each year, we now plot the cumulative number of channels created between 2010 and the end of this year:\n",
    "plot = channels_count.plot(kind='bar', title = \"Number of channels created (cumulative)\")\n",
    "plot.set_ylabel('Number of channels (cumulative)')\n",
    "plot.set_xlabel('Years')"
   ]
  },
  {
   "attachments": {},
   "cell_type": "markdown",
   "metadata": {},
   "source": [
    "3. Normalize the number of videos published each year by the number of channels that have been created between the beginning of 2010 and the end of that year, and plot these quantities. Do separate plots for gaming channels, how-to channels, and both together. Can you conclude from the plot that both gaming and how-to channels have been becoming less and less active recently? Why, or why not?"
   ]
  },
  {
   "cell_type": "code",
   "execution_count": 147,
   "metadata": {},
   "outputs": [
    {
     "data": {
      "text/plain": [
       "upload_date\n",
       "2010.0     55.734694\n",
       "2011.0    104.328947\n",
       "2012.0    115.955357\n",
       "2013.0    137.661654\n",
       "2014.0    133.880795\n",
       "2015.0     95.756098\n",
       "2016.0     90.715909\n",
       "2017.0     89.927461\n",
       "2018.0     85.461538\n",
       "dtype: float64"
      ]
     },
     "execution_count": 147,
     "metadata": {},
     "output_type": "execute_result"
    }
   ],
   "source": [
    "# Normalizing number of videos per year with number of channels created btw 2010 and this year:\n",
    "# For all categories:\n",
    "videos = youtube.groupby(years)['title'].count()\n",
    "normalized_all_cat = videos/channels_count.channel\n",
    "normalized_all_cat"
   ]
  },
  {
   "cell_type": "code",
   "execution_count": 173,
   "metadata": {},
   "outputs": [],
   "source": [
    "# Separate between both channel categories:\n",
    "videos_gaming = youtube.loc[(youtube.upload_date.dt.year <= 2018) & (youtube.upload_date.dt.year >= 2010) & (youtube.channel_cat == 'Gaming'), ['upload_date', 'title']]\n",
    "videos_howto = youtube.loc[(youtube.upload_date.dt.year <= 2018) & (youtube.upload_date.dt.year >= 2010) & (youtube.channel_cat == 'Howto & Style'), ['upload_date', 'title']]"
   ]
  },
  {
   "cell_type": "code",
   "execution_count": 175,
   "metadata": {},
   "outputs": [],
   "source": [
    "# Again, we groupby year and count the number of videos:\n",
    "videos_gaming = videos_gaming.groupby(youtube.upload_date.dt.year)['title'].count()\n",
    "videos_howto = videos_howto.groupby(youtube.upload_date.dt.year)['title'].count()"
   ]
  },
  {
   "cell_type": "code",
   "execution_count": 176,
   "metadata": {},
   "outputs": [],
   "source": [
    "# Normalize:\n",
    "normalized_gaming = videos_gaming/channels_count.channel\n",
    "normalized_howto = videos_howto/channels_count.channel"
   ]
  },
  {
   "cell_type": "code",
   "execution_count": 179,
   "metadata": {},
   "outputs": [
    {
     "data": {
      "image/png": "[encoded data removed]",
      "text/plain": [
       "<Figure size 800x600 with 3 Axes>"
      ]
     },
     "metadata": {},
     "output_type": "display_data"
    }
   ],
   "source": [
    "fig, ax = plt.subplots(1,3,figsize= (8,6), sharey = True, sharex = True)\n",
    "ax[0].bar(x=normalized_all_cat.index, height = normalized_all_cat)\n",
    "ax[0].set_title(\"Both\")\n",
    "\n",
    "ax[1].bar(x=normalized_howto.index, height = normalized_howto)\n",
    "ax[1].set_title(\"Howto & Style\")\n",
    "\n",
    "ax[2].bar(x=normalized_gaming.index, height = normalized_gaming)\n",
    "ax[2].set_title(\"Gaming\")\n",
    "\n",
    "for i in range(3):\n",
    "    ax[i].set_ylabel('per-channel average')\n",
    "    ax[i].set_xlabel('Years')"
   ]
  },
  {
   "attachments": {},
   "cell_type": "markdown",
   "metadata": {},
   "source": [
    "Together, it seems that activity has decreased through recent years but looking at individual categories we can see that Howto & Style increased the videos number while gaming activity has dropped in recent years."
   ]
  },
  {
   "cell_type": "markdown",
   "metadata": {},
   "source": [
    "## A2: The one thing we all love: cash money"
   ]
  },
  {
   "cell_type": "markdown",
   "metadata": {},
   "source": [
    "Your friend is really keen on making money from their YouTube channel through ads and wants you to help them choose the most profitable channel category (Gaming or Howto & Style). The ad profit is directly proportional to the number of views of a video."
   ]
  },
  {
   "cell_type": "markdown",
   "metadata": {},
   "source": [
    "1. Since your friend wants to keep producing videos for several years to come, it might also be worth looking at the growth of the two categories.\n",
    "  1. Compute the total number of views in each category per year for the years 2010-2018.\n",
    "  2. Divide the yearly view count by the number of channels that posted a video in each category in each year. Plot these normalized counts.\n",
    "\n",
    "\n"
   ]
  },
  {
   "cell_type": "code",
   "execution_count": 5,
   "metadata": {},
   "outputs": [
    {
     "data": {
      "text/plain": [
       "135986429274.0"
      ]
     },
     "execution_count": 5,
     "metadata": {},
     "output_type": "execute_result"
    }
   ],
   "source": [
    "# 1. \n",
    "youtube.loc[youtube.channel_cat == 'Gaming'].view_count.sum()"
   ]
  },
  {
   "cell_type": "code",
   "execution_count": 6,
   "metadata": {},
   "outputs": [
    {
     "data": {
      "text/plain": [
       "86493243255.0"
      ]
     },
     "execution_count": 6,
     "metadata": {},
     "output_type": "execute_result"
    }
   ],
   "source": [
    "# 1. \n",
    "youtube.loc[youtube.channel_cat == 'Howto & Style'].view_count.sum()"
   ]
  },
  {
   "cell_type": "code",
   "execution_count": 21,
   "metadata": {},
   "outputs": [],
   "source": [
    "# 2. total number of views in each category per year:\n",
    "views_gaming = youtube.loc[(youtube.upload_date.dt.year <= 2018) & (youtube.upload_date.dt.year >= 2010) & (youtube.channel_cat == 'Gaming'), ['upload_date', 'view_count']]\n",
    "views_howto = youtube.loc[(youtube.upload_date.dt.year <= 2018) & (youtube.upload_date.dt.year >= 2010) & (youtube.channel_cat == 'Howto & Style'), ['upload_date', 'view_count']]"
   ]
  },
  {
   "cell_type": "code",
   "execution_count": 26,
   "metadata": {},
   "outputs": [],
   "source": [
    "# Again, we groupby year and count the number of videos:\n",
    "views_gaming = views_gaming.groupby(youtube.upload_date.dt.year)['view_count'].sum() # Here, we sum the view_count for each year; count() would count the # of videos !!\n",
    "views_howto = views_howto.groupby(youtube.upload_date.dt.year)['view_count'].sum()"
   ]
  },
  {
   "cell_type": "code",
   "execution_count": 27,
   "metadata": {},
   "outputs": [
    {
     "data": {
      "text/plain": [
       "upload_date\n",
       "2010    5.982209e+08\n",
       "2011    1.242821e+09\n",
       "2012    2.599337e+09\n",
       "2013    3.828603e+09\n",
       "2014    5.425076e+09\n",
       "2015    7.430702e+09\n",
       "2016    1.019096e+10\n",
       "2017    2.124592e+10\n",
       "2018    2.451169e+10\n",
       "Name: view_count, dtype: float64"
      ]
     },
     "execution_count": 27,
     "metadata": {},
     "output_type": "execute_result"
    }
   ],
   "source": [
    "views_howto"
   ]
  },
  {
   "cell_type": "code",
   "execution_count": null,
   "metadata": {},
   "outputs": [],
   "source": [
    "# Correction !\n",
    "def calculate_per_year(df, categories, col, year_start, year_end, what='count',\n",
    "                       keep_duplicates=True, duplicate_cols=None, cumulative=False):\n",
    "    df_cleaned = df.loc[(df.channel_cat.apply(lambda x: x in categories))&\n",
    "    (df.upload_year <= year_end) & (df.upload_year >= year_start), \n",
    "        ['upload_year', col]].sort_values('upload_year')\n",
    "    if not keep_duplicates:\n",
    "        df_cleaned = df_cleaned.drop_duplicates(subset=duplicate_cols, keep='first')\n",
    "    if what == 'count':\n",
    "        result_df = df_cleaned.groupby('upload_year').count() + \\\n",
    "            pd.DataFrame(data={col: [0]*(year_end-year_start+1), \n",
    "            'upload_year':list(range(year_start,year_end+1))}).set_index('upload_year')\n",
    "    elif what == 'mean':\n",
    "        result_df = df_cleaned.groupby('upload_year').mean()\n",
    "    elif what == 'sum':\n",
    "        result_df = df_cleaned.groupby('upload_year').sum()\n",
    "    if cumulative:\n",
    "        result_df = result_df.fillna(0).cumsum()\n",
    "    return result_df"
   ]
  },
  {
   "cell_type": "code",
   "execution_count": 15,
   "metadata": {},
   "outputs": [
    {
     "data": {
      "text/plain": [
       "upload_date\n",
       "2010    24\n",
       "2011    17\n",
       "2012    20\n",
       "2013    12\n",
       "2014     9\n",
       "2015     9\n",
       "2016     3\n",
       "2017     5\n",
       "Name: channel, dtype: int64"
      ]
     },
     "execution_count": 15,
     "metadata": {},
     "output_type": "execute_result"
    }
   ],
   "source": [
    "# To count the number of channels, we select the corresponding years & category and sort the upload_date, then groupby years and keep only the first mention of channel uploading per year, each video being one row:\n",
    "channels_gaming = youtube.loc[(youtube.upload_date.dt.year <= 2018) & (youtube.upload_date.dt.year >= 2010) & (youtube.channel_cat == 'Gaming'),['upload_date','channel']].sort_values(\"upload_date\", ascending = True)\n",
    "channels_gaming = channels_gaming.drop_duplicates(subset = ['channel'], keep='first')\n",
    "channels_gaming = channels_gaming.groupby(youtube.upload_date.dt.year)['channel'].count()\n",
    "channels_gaming"
   ]
  },
  {
   "cell_type": "code",
   "execution_count": 23,
   "metadata": {},
   "outputs": [
    {
     "data": {
      "text/plain": [
       "upload_date\n",
       "2010    25\n",
       "2011    10\n",
       "2012    16\n",
       "2013     9\n",
       "2014     9\n",
       "2015     4\n",
       "2016     9\n",
       "2017    12\n",
       "2018     2\n",
       "Name: channel, dtype: int64"
      ]
     },
     "execution_count": 23,
     "metadata": {},
     "output_type": "execute_result"
    }
   ],
   "source": [
    "channels_howto = youtube.loc[(youtube.upload_date.dt.year <= 2018) & (youtube.upload_date.dt.year >= 2010) & (youtube.channel_cat == 'Howto & Style'),['upload_date','channel']].sort_values(\"upload_date\", ascending = True)\n",
    "channels_howto = channels_howto.drop_duplicates(subset = ['channel'], keep='first')\n",
    "channels_howto = channels_howto.groupby(youtube.upload_date.dt.year)['channel'].count()\n",
    "channels_howto"
   ]
  },
  {
   "cell_type": "code",
   "execution_count": 28,
   "metadata": {},
   "outputs": [],
   "source": [
    "# 3. Normalize the yearly view count by the # of channels that posted a video in each category in each year:\n",
    "views_normalized_gaming = views_gaming/channels_gaming\n",
    "views_normalized_howto = views_howto/channels_howto"
   ]
  },
  {
   "cell_type": "code",
   "execution_count": 29,
   "metadata": {},
   "outputs": [
    {
     "data": {
      "text/plain": [
       "Text(0, 0.5, 'View count')"
      ]
     },
     "execution_count": 29,
     "metadata": {},
     "output_type": "execute_result"
    },
    {
     "data": {
      "image/png": "[encoded data removed]",
      "text/plain": [
       "<Figure size 640x480 with 1 Axes>"
      ]
     },
     "metadata": {},
     "output_type": "display_data"
    }
   ],
   "source": [
    "# Plot these normalized counts:\n",
    "plot = views_normalized_gaming.plot(kind='bar', title = 'Normalized yearly count for Gaming category')\n",
    "plot.set_ylabel('View count')"
   ]
  },
  {
   "cell_type": "code",
   "execution_count": 30,
   "metadata": {},
   "outputs": [
    {
     "data": {
      "text/plain": [
       "Text(0, 0.5, 'View count')"
      ]
     },
     "execution_count": 30,
     "metadata": {},
     "output_type": "execute_result"
    },
    {
     "data": {
      "image/png": "[encoded data removed]",
      "text/plain": [
       "<Figure size 640x480 with 1 Axes>"
      ]
     },
     "metadata": {},
     "output_type": "display_data"
    }
   ],
   "source": [
    "plot = views_normalized_howto.plot(kind='bar', title = 'Normalized yearly count for Howto & Style category')\n",
    "plot.set_ylabel('View count')"
   ]
  },
  {
   "cell_type": "markdown",
   "metadata": {},
   "source": [
    "2. Your friend's channel will be brand new, so you decide to look more closely at newer channels. For this question and all the following questions in A2, only consider channels that uploaded their first video in  2016 or later. Compute the total number of views in each category and divide it by the number of channels in that category.\n"
   ]
  },
  {
   "cell_type": "code",
   "execution_count": 33,
   "metadata": {},
   "outputs": [],
   "source": [
    "# First, we select new videos and categories: channels uploading their first video in 2016 or later = does not count channels that posted in 2016 but also posted earlier...\n",
    "channel_starts = youtube[['channel', 'upload_date']].groupby('channel').min().reset_index()\n",
    "channels_late = channel_starts.loc[channel_starts.upload_date.dt.year >= 2016].channel.values\n",
    "\n",
    "new_videos_gaming = youtube.loc[(youtube.channel.apply(lambda x: x in channels_late)) & (youtube.channel_cat == 'Gaming')]\n",
    "new_videos_howto = youtube.loc[(youtube.channel.apply(lambda x: x in channels_late)) & (youtube.channel_cat == 'Howto & Style')]\n",
    "\n",
    "# Then, we compute the total number of views per category:\n",
    "total_views_gaming = new_videos_gaming['view_count'].sum()\n",
    "total_views_howto = new_videos_howto['view_count'].sum()\n",
    "# Then, we compute the total number of channels per category:\n",
    "total_channels_gaming = new_videos_gaming['channel'].nunique()\n",
    "total_channels_howto = new_videos_howto['channel'].nunique()\n",
    "# Normalizing for each category:\n",
    "normalized_gaming_new = total_views_gaming/total_channels_gaming\n",
    "normalized_howto_new = total_views_howto/total_channels_howto"
   ]
  },
  {
   "cell_type": "code",
   "execution_count": 34,
   "metadata": {},
   "outputs": [
    {
     "name": "stdout",
     "output_type": "stream",
     "text": [
      "The total number of views in the Gaming category normalized by its number of channels is: 895409422.38\n",
      "The total number of views in the Howto & Style category normalized by its number of channels is: 1374135339.0\n"
     ]
    }
   ],
   "source": [
    "print(\"The total number of views in the Gaming category normalized by its number of channels is:\", round(normalized_gaming_new,2))\n",
    "print(\"The total number of views in the Howto & Style category normalized by its number of channels is:\", round(normalized_howto_new,2))"
   ]
  },
  {
   "cell_type": "markdown",
   "metadata": {},
   "source": [
    "3. The number of views might be very unevenly over the different channels, and channels might upload different numbers of videos.\n",
    "  1. Compute the mean number of views per video for each channel.\n",
    "  2. Compute the mean of these means for each of the two categories. Print these values.\n",
    "  3. Using bootstrapping, compute 95% confidence intervals for these two means. From this analysis, can you draw a recommendation for one of the two categories? Why, or why not?"
   ]
  },
  {
   "cell_type": "code",
   "execution_count": 35,
   "metadata": {},
   "outputs": [
    {
     "data": {
      "text/html": [
       "<div>\n",
       "<style scoped>\n",
       "    .dataframe tbody tr th:only-of-type {\n",
       "        vertical-align: middle;\n",
       "    }\n",
       "\n",
       "    .dataframe tbody tr th {\n",
       "        vertical-align: top;\n",
       "    }\n",
       "\n",
       "    .dataframe thead th {\n",
       "        text-align: right;\n",
       "    }\n",
       "</style>\n",
       "<table border=\"1\" class=\"dataframe\">\n",
       "  <thead>\n",
       "    <tr style=\"text-align: right;\">\n",
       "      <th></th>\n",
       "      <th>view_count</th>\n",
       "    </tr>\n",
       "    <tr>\n",
       "      <th>channel</th>\n",
       "      <th></th>\n",
       "    </tr>\n",
       "  </thead>\n",
       "  <tbody>\n",
       "    <tr>\n",
       "      <th>Ceeday</th>\n",
       "      <td>2.596953e+06</td>\n",
       "    </tr>\n",
       "    <tr>\n",
       "      <th>Chris Smoove</th>\n",
       "      <td>3.569548e+05</td>\n",
       "    </tr>\n",
       "    <tr>\n",
       "      <th>Clash Royale</th>\n",
       "      <td>2.037094e+06</td>\n",
       "    </tr>\n",
       "    <tr>\n",
       "      <th>Daequan Loco</th>\n",
       "      <td>1.136136e+06</td>\n",
       "    </tr>\n",
       "    <tr>\n",
       "      <th>Denis</th>\n",
       "      <td>2.074953e+06</td>\n",
       "    </tr>\n",
       "    <tr>\n",
       "      <th>Frost Diamond</th>\n",
       "      <td>1.204915e+06</td>\n",
       "    </tr>\n",
       "    <tr>\n",
       "      <th>GameGrumps</th>\n",
       "      <td>6.767778e+05</td>\n",
       "    </tr>\n",
       "    <tr>\n",
       "      <th>Jess No Limit</th>\n",
       "      <td>1.154385e+06</td>\n",
       "    </tr>\n",
       "  </tbody>\n",
       "</table>\n",
       "</div>"
      ],
      "text/plain": [
       "                 view_count\n",
       "channel                    \n",
       "Ceeday         2.596953e+06\n",
       "Chris Smoove   3.569548e+05\n",
       "Clash Royale   2.037094e+06\n",
       "Daequan Loco   1.136136e+06\n",
       "Denis          2.074953e+06\n",
       "Frost Diamond  1.204915e+06\n",
       "GameGrumps     6.767778e+05\n",
       "Jess No Limit  1.154385e+06"
      ]
     },
     "execution_count": 35,
     "metadata": {},
     "output_type": "execute_result"
    }
   ],
   "source": [
    "# 4. Mean number of views per video for each channel:\n",
    "mean_views_video_gaming = pd.DataFrame(new_videos_gaming.groupby('channel')['view_count'].mean())\n",
    "mean_views_video_gaming"
   ]
  },
  {
   "cell_type": "code",
   "execution_count": 36,
   "metadata": {},
   "outputs": [
    {
     "data": {
      "text/html": [
       "<div>\n",
       "<style scoped>\n",
       "    .dataframe tbody tr th:only-of-type {\n",
       "        vertical-align: middle;\n",
       "    }\n",
       "\n",
       "    .dataframe tbody tr th {\n",
       "        vertical-align: top;\n",
       "    }\n",
       "\n",
       "    .dataframe thead th {\n",
       "        text-align: right;\n",
       "    }\n",
       "</style>\n",
       "<table border=\"1\" class=\"dataframe\">\n",
       "  <thead>\n",
       "    <tr style=\"text-align: right;\">\n",
       "      <th></th>\n",
       "      <th>view_count</th>\n",
       "    </tr>\n",
       "    <tr>\n",
       "      <th>channel</th>\n",
       "      <th></th>\n",
       "    </tr>\n",
       "  </thead>\n",
       "  <tbody>\n",
       "    <tr>\n",
       "      <th>5-Minute Crafts</th>\n",
       "      <td>4.001437e+06</td>\n",
       "    </tr>\n",
       "    <tr>\n",
       "      <th>5-Minute Crafts GIRLY</th>\n",
       "      <td>1.810882e+06</td>\n",
       "    </tr>\n",
       "    <tr>\n",
       "      <th>5-Minute Crafts PLAY</th>\n",
       "      <td>1.879931e+06</td>\n",
       "    </tr>\n",
       "    <tr>\n",
       "      <th>Anaysa</th>\n",
       "      <td>3.424131e+06</td>\n",
       "    </tr>\n",
       "    <tr>\n",
       "      <th>Antonio Garza</th>\n",
       "      <td>3.983921e+06</td>\n",
       "    </tr>\n",
       "    <tr>\n",
       "      <th>BRICO SYMPA</th>\n",
       "      <td>2.964726e+05</td>\n",
       "    </tr>\n",
       "    <tr>\n",
       "      <th>BRIGHT SIDE</th>\n",
       "      <td>3.602201e+06</td>\n",
       "    </tr>\n",
       "    <tr>\n",
       "      <th>Blossom</th>\n",
       "      <td>1.143963e+07</td>\n",
       "    </tr>\n",
       "    <tr>\n",
       "      <th>Crafty Panda</th>\n",
       "      <td>1.509486e+07</td>\n",
       "    </tr>\n",
       "    <tr>\n",
       "      <th>Grandpa Kitchen</th>\n",
       "      <td>2.774519e+06</td>\n",
       "    </tr>\n",
       "    <tr>\n",
       "      <th>Health Tips for You</th>\n",
       "      <td>7.638814e+04</td>\n",
       "    </tr>\n",
       "    <tr>\n",
       "      <th>Homemade solutions</th>\n",
       "      <td>3.291543e+06</td>\n",
       "    </tr>\n",
       "    <tr>\n",
       "      <th>Hong Giang DIY Slime</th>\n",
       "      <td>3.016172e+06</td>\n",
       "    </tr>\n",
       "    <tr>\n",
       "      <th>Indian Health</th>\n",
       "      <td>4.710675e+05</td>\n",
       "    </tr>\n",
       "    <tr>\n",
       "      <th>Izabela Stress</th>\n",
       "      <td>3.801210e+06</td>\n",
       "    </tr>\n",
       "    <tr>\n",
       "      <th>MeLlamanFredy</th>\n",
       "      <td>7.323903e+05</td>\n",
       "    </tr>\n",
       "    <tr>\n",
       "      <th>SHORT TIME SECRET</th>\n",
       "      <td>1.309930e+06</td>\n",
       "    </tr>\n",
       "    <tr>\n",
       "      <th>Satisfying Slime Videos</th>\n",
       "      <td>1.924520e+06</td>\n",
       "    </tr>\n",
       "    <tr>\n",
       "      <th>So Yummy</th>\n",
       "      <td>7.171213e+06</td>\n",
       "    </tr>\n",
       "    <tr>\n",
       "      <th>Tasty</th>\n",
       "      <td>9.620655e+05</td>\n",
       "    </tr>\n",
       "    <tr>\n",
       "      <th>Tom Slime</th>\n",
       "      <td>3.434468e+06</td>\n",
       "    </tr>\n",
       "    <tr>\n",
       "      <th>Xyz Gyan</th>\n",
       "      <td>1.868584e+06</td>\n",
       "    </tr>\n",
       "    <tr>\n",
       "      <th>YourHealth</th>\n",
       "      <td>1.172341e+06</td>\n",
       "    </tr>\n",
       "  </tbody>\n",
       "</table>\n",
       "</div>"
      ],
      "text/plain": [
       "                           view_count\n",
       "channel                              \n",
       "5-Minute Crafts          4.001437e+06\n",
       "5-Minute Crafts GIRLY    1.810882e+06\n",
       "5-Minute Crafts PLAY     1.879931e+06\n",
       "Anaysa                   3.424131e+06\n",
       "Antonio Garza            3.983921e+06\n",
       "BRICO SYMPA              2.964726e+05\n",
       "BRIGHT SIDE              3.602201e+06\n",
       "Blossom                  1.143963e+07\n",
       "Crafty Panda             1.509486e+07\n",
       "Grandpa Kitchen          2.774519e+06\n",
       "Health Tips for You      7.638814e+04\n",
       "Homemade solutions       3.291543e+06\n",
       "Hong Giang DIY Slime     3.016172e+06\n",
       "Indian Health            4.710675e+05\n",
       "Izabela Stress           3.801210e+06\n",
       "MeLlamanFredy            7.323903e+05\n",
       "SHORT TIME SECRET        1.309930e+06\n",
       "Satisfying Slime Videos  1.924520e+06\n",
       "So Yummy                 7.171213e+06\n",
       "Tasty                    9.620655e+05\n",
       "Tom Slime                3.434468e+06\n",
       "Xyz Gyan                 1.868584e+06\n",
       "YourHealth               1.172341e+06"
      ]
     },
     "execution_count": 36,
     "metadata": {},
     "output_type": "execute_result"
    }
   ],
   "source": [
    "mean_views_video_howto = pd.DataFrame(new_videos_howto.groupby('channel')['view_count'].mean())\n",
    "mean_views_video_howto"
   ]
  },
  {
   "cell_type": "code",
   "execution_count": 37,
   "metadata": {},
   "outputs": [
    {
     "name": "stdout",
     "output_type": "stream",
     "text": [
      "The mean of mean view_count per channel in the Gaming category is: 1404771.14\n",
      "The mean of mean view_count per channel in the Howto & Style category is: 3371299.22\n"
     ]
    }
   ],
   "source": [
    "# Mean of these means for both categories:\n",
    "print(\"The mean of mean view_count per channel in the Gaming category is:\", round(mean_views_video_gaming.mean()[0],2))\n",
    "print(\"The mean of mean view_count per channel in the Howto & Style category is:\", round(mean_views_video_howto.mean()[0],2))"
   ]
  },
  {
   "cell_type": "code",
   "execution_count": 38,
   "metadata": {},
   "outputs": [],
   "source": [
    "# Input: your array and the number of random samples (e.g., 1000 is a good number)\n",
    "# Output: [lower error, upper error]\n",
    "\n",
    "def bootstrap_CI(data, nbr_draws):\n",
    "    means = np.zeros(nbr_draws)\n",
    "    data = np.array(data)\n",
    "\n",
    "    for n in range(nbr_draws):\n",
    "        indices = np.random.randint(0, len(data), len(data))\n",
    "        data_tmp = data[indices] \n",
    "        means[n] = np.nanmean(data_tmp)\n",
    "\n",
    "    return [np.nanpercentile(means, 2.5),np.nanpercentile(means, 97.5)]"
   ]
  },
  {
   "cell_type": "code",
   "execution_count": 39,
   "metadata": {},
   "outputs": [
    {
     "name": "stdout",
     "output_type": "stream",
     "text": [
      "95% CI for mean of mean view count for each channel for Gaming category: [ 914268.2571022118 1895925.1503253095 ]\n",
      "95% CI for mean of mean view count for each channel for Howto & Style category: [ 2151505.3489373163 5031237.791971862 ]\n"
     ]
    }
   ],
   "source": [
    "# 3. Using bootstrapping, compute 95% confidence intervals for these two means:\n",
    "ci95_gaming_low, ci95_gaming_up = bootstrap_CI(mean_views_video_gaming, 1000)\n",
    "print(\"95% CI for mean of mean view count for each channel for Gaming category: [\", ci95_gaming_low, ci95_gaming_up, \"]\")\n",
    "ci95_howto_low, ci95_howto_up = bootstrap_CI(mean_views_video_howto, 1000)\n",
    "print(\"95% CI for mean of mean view count for each channel for Howto & Style category: [\", ci95_howto_low, ci95_howto_up, \"]\")"
   ]
  },
  {
   "attachments": {},
   "cell_type": "markdown",
   "metadata": {},
   "source": [
    "#### From this analysis, can you draw a recommendation for one of the two categories? Why, or why not?\n",
    "From these two confidence intervals, we can see that for the Gaming category, the mean view count for all channels is between 914 268 and 1 895 925 while for the Howto & Style it is between 2 151 505 and 5 031 237. We can draw a clear recommendation for the Howto & Style category because the 95% CI are not overlapping and thus we can say with statistical confidence that the Howto & Style is significantly attracting more viewers."
   ]
  },
  {
   "cell_type": "markdown",
   "metadata": {},
   "source": [
    "# Task B: View forecasting (Machine Learning)"
   ]
  },
  {
   "cell_type": "markdown",
   "metadata": {},
   "source": [
    "Your friend wants to figure out how they can optimize their videos for getting the maximum number of views (without using shocking thumbnails and clickbait titles). In this task, you will build a machine learning (ML) model for predicting the success of a video."
   ]
  },
  {
   "cell_type": "markdown",
   "metadata": {},
   "source": [
    "## B1: Get those shovels out again"
   ]
  },
  {
   "cell_type": "markdown",
   "metadata": {},
   "source": [
    "1. For the prediction model, use all rows of the dataset, but keep only the following columns: `view_count, channel, upload_date, duration, average_rating, height, width`."
   ]
  },
  {
   "cell_type": "code",
   "execution_count": 318,
   "metadata": {},
   "outputs": [],
   "source": [
    "data_selected = youtube[['view_count', 'channel', 'upload_date', 'duration', 'average_rating', 'height', 'width']]"
   ]
  },
  {
   "cell_type": "code",
   "execution_count": 319,
   "metadata": {},
   "outputs": [
    {
     "data": {
      "text/html": [
       "<div>\n",
       "<style scoped>\n",
       "    .dataframe tbody tr th:only-of-type {\n",
       "        vertical-align: middle;\n",
       "    }\n",
       "\n",
       "    .dataframe tbody tr th {\n",
       "        vertical-align: top;\n",
       "    }\n",
       "\n",
       "    .dataframe thead th {\n",
       "        text-align: right;\n",
       "    }\n",
       "</style>\n",
       "<table border=\"1\" class=\"dataframe\">\n",
       "  <thead>\n",
       "    <tr style=\"text-align: right;\">\n",
       "      <th></th>\n",
       "      <th>view_count</th>\n",
       "      <th>channel</th>\n",
       "      <th>upload_date</th>\n",
       "      <th>duration</th>\n",
       "      <th>average_rating</th>\n",
       "      <th>height</th>\n",
       "      <th>width</th>\n",
       "    </tr>\n",
       "  </thead>\n",
       "  <tbody>\n",
       "    <tr>\n",
       "      <th>0</th>\n",
       "      <td>2541550.0</td>\n",
       "      <td>PewDiePie</td>\n",
       "      <td>2013-03-04</td>\n",
       "      <td>1126.0</td>\n",
       "      <td>4.886102</td>\n",
       "      <td>720.0</td>\n",
       "      <td>1280.0</td>\n",
       "    </tr>\n",
       "    <tr>\n",
       "      <th>1</th>\n",
       "      <td>1727646.0</td>\n",
       "      <td>PewDiePie</td>\n",
       "      <td>2013-03-04</td>\n",
       "      <td>903.0</td>\n",
       "      <td>4.951531</td>\n",
       "      <td>720.0</td>\n",
       "      <td>1280.0</td>\n",
       "    </tr>\n",
       "    <tr>\n",
       "      <th>2</th>\n",
       "      <td>1402747.0</td>\n",
       "      <td>PewDiePie</td>\n",
       "      <td>2013-03-04</td>\n",
       "      <td>806.0</td>\n",
       "      <td>4.962706</td>\n",
       "      <td>720.0</td>\n",
       "      <td>1280.0</td>\n",
       "    </tr>\n",
       "    <tr>\n",
       "      <th>3</th>\n",
       "      <td>4348296.0</td>\n",
       "      <td>PewDiePie</td>\n",
       "      <td>2013-03-03</td>\n",
       "      <td>909.0</td>\n",
       "      <td>4.937665</td>\n",
       "      <td>720.0</td>\n",
       "      <td>1280.0</td>\n",
       "    </tr>\n",
       "    <tr>\n",
       "      <th>4</th>\n",
       "      <td>1410659.0</td>\n",
       "      <td>PewDiePie</td>\n",
       "      <td>2013-03-03</td>\n",
       "      <td>834.0</td>\n",
       "      <td>4.957545</td>\n",
       "      <td>720.0</td>\n",
       "      <td>1280.0</td>\n",
       "    </tr>\n",
       "    <tr>\n",
       "      <th>...</th>\n",
       "      <td>...</td>\n",
       "      <td>...</td>\n",
       "      <td>...</td>\n",
       "      <td>...</td>\n",
       "      <td>...</td>\n",
       "      <td>...</td>\n",
       "      <td>...</td>\n",
       "    </tr>\n",
       "    <tr>\n",
       "      <th>139502</th>\n",
       "      <td>284147.0</td>\n",
       "      <td>cutepolish</td>\n",
       "      <td>2010-02-23</td>\n",
       "      <td>201.0</td>\n",
       "      <td>4.608439</td>\n",
       "      <td>480.0</td>\n",
       "      <td>640.0</td>\n",
       "    </tr>\n",
       "    <tr>\n",
       "      <th>139503</th>\n",
       "      <td>136278.0</td>\n",
       "      <td>cutepolish</td>\n",
       "      <td>2010-02-22</td>\n",
       "      <td>180.0</td>\n",
       "      <td>4.638451</td>\n",
       "      <td>480.0</td>\n",
       "      <td>640.0</td>\n",
       "    </tr>\n",
       "    <tr>\n",
       "      <th>139504</th>\n",
       "      <td>228384.0</td>\n",
       "      <td>cutepolish</td>\n",
       "      <td>2010-02-21</td>\n",
       "      <td>277.0</td>\n",
       "      <td>4.836411</td>\n",
       "      <td>480.0</td>\n",
       "      <td>640.0</td>\n",
       "    </tr>\n",
       "    <tr>\n",
       "      <th>139505</th>\n",
       "      <td>247053.0</td>\n",
       "      <td>cutepolish</td>\n",
       "      <td>2010-02-20</td>\n",
       "      <td>174.0</td>\n",
       "      <td>4.855700</td>\n",
       "      <td>480.0</td>\n",
       "      <td>640.0</td>\n",
       "    </tr>\n",
       "    <tr>\n",
       "      <th>139506</th>\n",
       "      <td>331964.0</td>\n",
       "      <td>cutepolish</td>\n",
       "      <td>2010-02-20</td>\n",
       "      <td>329.0</td>\n",
       "      <td>4.462126</td>\n",
       "      <td>480.0</td>\n",
       "      <td>640.0</td>\n",
       "    </tr>\n",
       "  </tbody>\n",
       "</table>\n",
       "<p>139507 rows × 7 columns</p>\n",
       "</div>"
      ],
      "text/plain": [
       "        view_count     channel upload_date  duration  average_rating  height  \\\n",
       "0        2541550.0   PewDiePie  2013-03-04    1126.0        4.886102   720.0   \n",
       "1        1727646.0   PewDiePie  2013-03-04     903.0        4.951531   720.0   \n",
       "2        1402747.0   PewDiePie  2013-03-04     806.0        4.962706   720.0   \n",
       "3        4348296.0   PewDiePie  2013-03-03     909.0        4.937665   720.0   \n",
       "4        1410659.0   PewDiePie  2013-03-03     834.0        4.957545   720.0   \n",
       "...            ...         ...         ...       ...             ...     ...   \n",
       "139502    284147.0  cutepolish  2010-02-23     201.0        4.608439   480.0   \n",
       "139503    136278.0  cutepolish  2010-02-22     180.0        4.638451   480.0   \n",
       "139504    228384.0  cutepolish  2010-02-21     277.0        4.836411   480.0   \n",
       "139505    247053.0  cutepolish  2010-02-20     174.0        4.855700   480.0   \n",
       "139506    331964.0  cutepolish  2010-02-20     329.0        4.462126   480.0   \n",
       "\n",
       "         width  \n",
       "0       1280.0  \n",
       "1       1280.0  \n",
       "2       1280.0  \n",
       "3       1280.0  \n",
       "4       1280.0  \n",
       "...        ...  \n",
       "139502   640.0  \n",
       "139503   640.0  \n",
       "139504   640.0  \n",
       "139505   640.0  \n",
       "139506   640.0  \n",
       "\n",
       "[139507 rows x 7 columns]"
      ]
     },
     "execution_count": 319,
     "metadata": {},
     "output_type": "execute_result"
    }
   ],
   "source": [
    "data_selected"
   ]
  },
  {
   "cell_type": "markdown",
   "metadata": {},
   "source": [
    "2. Extract the upload year and upload month from the `upload_date` column into the two columns `upload_year` and `upload_month`, and remove `upload_date`."
   ]
  },
  {
   "cell_type": "code",
   "execution_count": 320,
   "metadata": {},
   "outputs": [],
   "source": [
    "data_selected = data_selected.assign(upload_year = data_selected.upload_date.dt.year)\n",
    "data_selected = data_selected.assign(upload_month = data_selected.upload_date.dt.month)\n",
    "data_selected = data_selected.drop(columns ='upload_date')"
   ]
  },
  {
   "cell_type": "code",
   "execution_count": 321,
   "metadata": {},
   "outputs": [
    {
     "data": {
      "text/html": [
       "<div>\n",
       "<style scoped>\n",
       "    .dataframe tbody tr th:only-of-type {\n",
       "        vertical-align: middle;\n",
       "    }\n",
       "\n",
       "    .dataframe tbody tr th {\n",
       "        vertical-align: top;\n",
       "    }\n",
       "\n",
       "    .dataframe thead th {\n",
       "        text-align: right;\n",
       "    }\n",
       "</style>\n",
       "<table border=\"1\" class=\"dataframe\">\n",
       "  <thead>\n",
       "    <tr style=\"text-align: right;\">\n",
       "      <th></th>\n",
       "      <th>view_count</th>\n",
       "      <th>channel</th>\n",
       "      <th>duration</th>\n",
       "      <th>average_rating</th>\n",
       "      <th>height</th>\n",
       "      <th>width</th>\n",
       "      <th>upload_year</th>\n",
       "      <th>upload_month</th>\n",
       "    </tr>\n",
       "  </thead>\n",
       "  <tbody>\n",
       "    <tr>\n",
       "      <th>0</th>\n",
       "      <td>2541550.0</td>\n",
       "      <td>PewDiePie</td>\n",
       "      <td>1126.0</td>\n",
       "      <td>4.886102</td>\n",
       "      <td>720.0</td>\n",
       "      <td>1280.0</td>\n",
       "      <td>2013</td>\n",
       "      <td>3</td>\n",
       "    </tr>\n",
       "    <tr>\n",
       "      <th>1</th>\n",
       "      <td>1727646.0</td>\n",
       "      <td>PewDiePie</td>\n",
       "      <td>903.0</td>\n",
       "      <td>4.951531</td>\n",
       "      <td>720.0</td>\n",
       "      <td>1280.0</td>\n",
       "      <td>2013</td>\n",
       "      <td>3</td>\n",
       "    </tr>\n",
       "    <tr>\n",
       "      <th>2</th>\n",
       "      <td>1402747.0</td>\n",
       "      <td>PewDiePie</td>\n",
       "      <td>806.0</td>\n",
       "      <td>4.962706</td>\n",
       "      <td>720.0</td>\n",
       "      <td>1280.0</td>\n",
       "      <td>2013</td>\n",
       "      <td>3</td>\n",
       "    </tr>\n",
       "    <tr>\n",
       "      <th>3</th>\n",
       "      <td>4348296.0</td>\n",
       "      <td>PewDiePie</td>\n",
       "      <td>909.0</td>\n",
       "      <td>4.937665</td>\n",
       "      <td>720.0</td>\n",
       "      <td>1280.0</td>\n",
       "      <td>2013</td>\n",
       "      <td>3</td>\n",
       "    </tr>\n",
       "    <tr>\n",
       "      <th>4</th>\n",
       "      <td>1410659.0</td>\n",
       "      <td>PewDiePie</td>\n",
       "      <td>834.0</td>\n",
       "      <td>4.957545</td>\n",
       "      <td>720.0</td>\n",
       "      <td>1280.0</td>\n",
       "      <td>2013</td>\n",
       "      <td>3</td>\n",
       "    </tr>\n",
       "    <tr>\n",
       "      <th>...</th>\n",
       "      <td>...</td>\n",
       "      <td>...</td>\n",
       "      <td>...</td>\n",
       "      <td>...</td>\n",
       "      <td>...</td>\n",
       "      <td>...</td>\n",
       "      <td>...</td>\n",
       "      <td>...</td>\n",
       "    </tr>\n",
       "    <tr>\n",
       "      <th>139502</th>\n",
       "      <td>284147.0</td>\n",
       "      <td>cutepolish</td>\n",
       "      <td>201.0</td>\n",
       "      <td>4.608439</td>\n",
       "      <td>480.0</td>\n",
       "      <td>640.0</td>\n",
       "      <td>2010</td>\n",
       "      <td>2</td>\n",
       "    </tr>\n",
       "    <tr>\n",
       "      <th>139503</th>\n",
       "      <td>136278.0</td>\n",
       "      <td>cutepolish</td>\n",
       "      <td>180.0</td>\n",
       "      <td>4.638451</td>\n",
       "      <td>480.0</td>\n",
       "      <td>640.0</td>\n",
       "      <td>2010</td>\n",
       "      <td>2</td>\n",
       "    </tr>\n",
       "    <tr>\n",
       "      <th>139504</th>\n",
       "      <td>228384.0</td>\n",
       "      <td>cutepolish</td>\n",
       "      <td>277.0</td>\n",
       "      <td>4.836411</td>\n",
       "      <td>480.0</td>\n",
       "      <td>640.0</td>\n",
       "      <td>2010</td>\n",
       "      <td>2</td>\n",
       "    </tr>\n",
       "    <tr>\n",
       "      <th>139505</th>\n",
       "      <td>247053.0</td>\n",
       "      <td>cutepolish</td>\n",
       "      <td>174.0</td>\n",
       "      <td>4.855700</td>\n",
       "      <td>480.0</td>\n",
       "      <td>640.0</td>\n",
       "      <td>2010</td>\n",
       "      <td>2</td>\n",
       "    </tr>\n",
       "    <tr>\n",
       "      <th>139506</th>\n",
       "      <td>331964.0</td>\n",
       "      <td>cutepolish</td>\n",
       "      <td>329.0</td>\n",
       "      <td>4.462126</td>\n",
       "      <td>480.0</td>\n",
       "      <td>640.0</td>\n",
       "      <td>2010</td>\n",
       "      <td>2</td>\n",
       "    </tr>\n",
       "  </tbody>\n",
       "</table>\n",
       "<p>139507 rows × 8 columns</p>\n",
       "</div>"
      ],
      "text/plain": [
       "        view_count     channel  duration  average_rating  height   width  \\\n",
       "0        2541550.0   PewDiePie    1126.0        4.886102   720.0  1280.0   \n",
       "1        1727646.0   PewDiePie     903.0        4.951531   720.0  1280.0   \n",
       "2        1402747.0   PewDiePie     806.0        4.962706   720.0  1280.0   \n",
       "3        4348296.0   PewDiePie     909.0        4.937665   720.0  1280.0   \n",
       "4        1410659.0   PewDiePie     834.0        4.957545   720.0  1280.0   \n",
       "...            ...         ...       ...             ...     ...     ...   \n",
       "139502    284147.0  cutepolish     201.0        4.608439   480.0   640.0   \n",
       "139503    136278.0  cutepolish     180.0        4.638451   480.0   640.0   \n",
       "139504    228384.0  cutepolish     277.0        4.836411   480.0   640.0   \n",
       "139505    247053.0  cutepolish     174.0        4.855700   480.0   640.0   \n",
       "139506    331964.0  cutepolish     329.0        4.462126   480.0   640.0   \n",
       "\n",
       "        upload_year  upload_month  \n",
       "0              2013             3  \n",
       "1              2013             3  \n",
       "2              2013             3  \n",
       "3              2013             3  \n",
       "4              2013             3  \n",
       "...             ...           ...  \n",
       "139502         2010             2  \n",
       "139503         2010             2  \n",
       "139504         2010             2  \n",
       "139505         2010             2  \n",
       "139506         2010             2  \n",
       "\n",
       "[139507 rows x 8 columns]"
      ]
     },
     "execution_count": 321,
     "metadata": {},
     "output_type": "execute_result"
    }
   ],
   "source": [
    "data_selected"
   ]
  },
  {
   "cell_type": "markdown",
   "metadata": {},
   "source": [
    "3. The entry in the channel column for a video indicates on which channel the video was uploaded. Encode this column via one-hot encoding."
   ]
  },
  {
   "cell_type": "code",
   "execution_count": 322,
   "metadata": {},
   "outputs": [],
   "source": [
    "# Encode channel column via one-hot encoding:\n",
    "X = pd.get_dummies(data_selected, columns = ['channel'], prefix='channel_')"
   ]
  },
  {
   "cell_type": "markdown",
   "metadata": {},
   "source": [
    "4. Split the data into a train (70%) and a test set (30%) with the appropriate function from sklearn, using 42 as the random seed."
   ]
  },
  {
   "cell_type": "code",
   "execution_count": 323,
   "metadata": {},
   "outputs": [],
   "source": [
    "from sklearn.model_selection import train_test_split\n",
    "train, test = train_test_split(X, test_size=0.3, random_state=42)\n",
    "X_train = train.drop(columns=['view_count'])\n",
    "y_train = train['view_count']\n",
    "X_test = test.drop(columns=['view_count'])\n",
    "y_test = test['view_count']"
   ]
  },
  {
   "cell_type": "markdown",
   "metadata": {},
   "source": [
    "## B2: Who is the most viewed of them all?"
   ]
  },
  {
   "cell_type": "markdown",
   "metadata": {},
   "source": [
    "1. Train a ridge regression model (i.e., an L2-regularized linear regression model) on the train set that predicts the view count from the other features. Find and use the optimal regularization parameter $\\alpha$ from the set {0.001, 0.01, 0.1} via 3-fold cross validation."
   ]
  },
  {
   "cell_type": "code",
   "execution_count": 325,
   "metadata": {},
   "outputs": [],
   "source": [
    "from sklearn.linear_model import RidgeCV, Ridge\n",
    "from sklearn.metrics import mean_absolute_error\n",
    "clf = RidgeCV(alphas=[0.001, 0.01, 0.1], scoring = 'r2', cv=3).fit(X_train, y_train)"
   ]
  },
  {
   "cell_type": "code",
   "execution_count": 326,
   "metadata": {},
   "outputs": [
    {
     "name": "stdout",
     "output_type": "stream",
     "text": [
      "Best alpha: 0.1\n"
     ]
    }
   ],
   "source": [
    "# Get the best alpha parameter:\n",
    "print(\"Best alpha:\", clf.alpha_)"
   ]
  },
  {
   "cell_type": "markdown",
   "metadata": {},
   "source": [
    "2. Report the mean absolute error that the model makes on the test set."
   ]
  },
  {
   "cell_type": "code",
   "execution_count": 327,
   "metadata": {},
   "outputs": [
    {
     "name": "stdout",
     "output_type": "stream",
     "text": [
      "Training score: 0.07739974979827347\n",
      "Testing score: 0.1492857348769192\n",
      "MAE of Ridge Regression: 1444649.5039951892 \n",
      "\n"
     ]
    }
   ],
   "source": [
    "ridge = Ridge(alpha=0.1)\n",
    "_ = ridge.fit(X_train, y_train)\n",
    "preds = ridge.predict(X_test)\n",
    "print(\"Training score:\", ridge.score(X_train, y_train))\n",
    "print(\"Testing score:\", ridge.score(X_test, y_test))\n",
    "print(\"MAE of Ridge Regression:\", mean_absolute_error(y_test, preds), '\\n')"
   ]
  },
  {
   "cell_type": "markdown",
   "metadata": {},
   "source": [
    "## B3: Checking our ambitions"
   ]
  },
  {
   "cell_type": "markdown",
   "metadata": {},
   "source": [
    "To improve performance, you want to make the task of the ML model easier and turn it into a classification task. Now it only has to predict whether a video has a high view count (defined as being larger than the median of the view counts in the training set) or a low view count (defined as being smaller or equal to the median of the view counts in the training set)."
   ]
  },
  {
   "cell_type": "markdown",
   "metadata": {},
   "source": [
    "1. Train a logistic regression model for this classification task. Find and use the optimal regularization parameter C (as defined in scikit-learn's documentation) from the set {1, 10, 100} via 3-fold cross validation. Use the random seed 42. _Hint_: If you get a warning about the training algorithm failing to converge, increase the maximum number of training iterations."
   ]
  },
  {
   "cell_type": "code",
   "execution_count": 328,
   "metadata": {},
   "outputs": [],
   "source": [
    "median_training = y_train.median()"
   ]
  },
  {
   "cell_type": "code",
   "execution_count": 329,
   "metadata": {},
   "outputs": [],
   "source": [
    "from sklearn.linear_model import LogisticRegressionCV\n",
    "y_train_binary = (y_train > median_training).astype(int)\n",
    "y_test_binary = (y_test > median_training).astype(int)"
   ]
  },
  {
   "cell_type": "code",
   "execution_count": 330,
   "metadata": {},
   "outputs": [],
   "source": [
    "Cs = (1, 10, 100)\n",
    "log_reg_cv = LogisticRegressionCV(Cs=Cs, cv=3, random_state=42, max_iter=200).fit(X_train, y_train_binary)"
   ]
  },
  {
   "cell_type": "code",
   "execution_count": 331,
   "metadata": {},
   "outputs": [
    {
     "name": "stdout",
     "output_type": "stream",
     "text": [
      "Best C: 1\n"
     ]
    }
   ],
   "source": [
    "# Get the best C parameter:\n",
    "print(\"Best C:\", log_reg_cv.C_[0])"
   ]
  },
  {
   "cell_type": "markdown",
   "metadata": {},
   "source": [
    "2. Compute the accuracy of the logistic regression model on the test set."
   ]
  },
  {
   "cell_type": "code",
   "execution_count": 332,
   "metadata": {},
   "outputs": [
    {
     "name": "stdout",
     "output_type": "stream",
     "text": [
      "Training score: 0.7488684539291786\n",
      "Testing score: 0.7480228418512412\n",
      "Accuracy: 0.0 \n",
      "\n"
     ]
    }
   ],
   "source": [
    "from sklearn.linear_model import LogisticRegression\n",
    "from sklearn.metrics import accuracy_score\n",
    "log = LogisticRegression(C=1, max_iter = 1000)\n",
    "_ = log.fit(X_train, y_train_binary)\n",
    "preds = log.predict(X_test)\n",
    "print(\"Training score:\", log.score(X_train, y_train_binary))\n",
    "print(\"Testing score:\", log.score(X_test, y_test_binary))\n",
    "print(\"Accuracy:\", accuracy_score(y_test, preds), '\\n')"
   ]
  },
  {
   "cell_type": "markdown",
   "metadata": {},
   "source": [
    "## B4: ...something's not right."
   ]
  },
  {
   "cell_type": "markdown",
   "metadata": {},
   "source": [
    "You are satisfied with the model performance. In fact, you are a bit surprised at how good the model is given the relatively little amount of information about the videos. So you take a closer look at the features and realize that the (one-hot-encoded) channel feature does not make sense for the application that your friend has in mind."
   ]
  },
  {
   "cell_type": "markdown",
   "metadata": {},
   "source": [
    "1. Why does the channel feature not make sense?"
   ]
  },
  {
   "attachments": {},
   "cell_type": "markdown",
   "metadata": {},
   "source": [
    "Even though your friend knows who will upload their videos (your friend, of course), no video with the \"new\" channel is in the training set and thus the corresponding one-hot feature does not exist in the model. Thus they wouldn't be able to use the trained model for predictions on their own videos."
   ]
  },
  {
   "cell_type": "markdown",
   "metadata": {},
   "source": [
    "2. Train another logistic regression model with all the features from B3 except the one-hot-encoded channel. Use again 42 as the seed for the train test split and perform the same hyperparameter optimization as in B3. How does the model performance change?"
   ]
  },
  {
   "cell_type": "code",
   "execution_count": 297,
   "metadata": {},
   "outputs": [],
   "source": [
    "new_data_selected = data_selected[['view_count', 'duration', 'average_rating', 'height', 'width', 'upload_year', 'upload_month']]\n",
    "train, test = train_test_split(new_data_selected, test_size=0.3, random_state=42)\n",
    "X_train = train.drop(columns=['view_count'])\n",
    "y_train = train['view_count']\n",
    "X_test = test.drop(columns=['view_count'])\n",
    "y_test = test['view_count']\n",
    "\n",
    "threshold = y_train.median()\n",
    "\n",
    "y_train_binary = (y_train > threshold).astype(int)\n",
    "y_test_binary = (y_test > threshold).astype(int)"
   ]
  },
  {
   "cell_type": "code",
   "execution_count": 298,
   "metadata": {},
   "outputs": [
    {
     "data": {
      "text/plain": [
       "100"
      ]
     },
     "execution_count": 298,
     "metadata": {},
     "output_type": "execute_result"
    }
   ],
   "source": [
    "log_reg_cv.fit(X_train, y_train_binary)\n",
    "opt_C = log_reg_cv.C_[0]\n",
    "opt_C"
   ]
  },
  {
   "cell_type": "code",
   "execution_count": 299,
   "metadata": {},
   "outputs": [
    {
     "data": {
      "text/plain": [
       "0.6075311208276587"
      ]
     },
     "execution_count": 299,
     "metadata": {},
     "output_type": "execute_result"
    }
   ],
   "source": [
    "log_reg_cv.score(X_test, y_test_binary)"
   ]
  },
  {
   "attachments": {},
   "cell_type": "markdown",
   "metadata": {},
   "source": [
    "Without the channel, the accuracy drops by 15 percentage points, and is not that far from uniformly random prediction anymore."
   ]
  },
  {
   "cell_type": "markdown",
   "metadata": {},
   "source": [
    "## B5: \"We kinda forgot about categories.\""
   ]
  },
  {
   "cell_type": "markdown",
   "metadata": {},
   "source": [
    "On second thought, there is actually one feature that you may use about the channel. Namely, the channel category. The reason this one makes sense might also help you answer B4.1."
   ]
  },
  {
   "cell_type": "markdown",
   "metadata": {},
   "source": [
    "1. Train and evaluate another logistic regression model (in the same way as in B4 regarding train/test split and hyperparameter) that additionally includes the one-hot-encoded channel category."
   ]
  },
  {
   "cell_type": "code",
   "execution_count": 333,
   "metadata": {},
   "outputs": [],
   "source": [
    "new_data_selected = data_selected[['view_count', 'duration', 'average_rating', 'height', 'width', 'upload_year', 'upload_month']]\n",
    "new_data_selected = new_data_selected.assign(channel_cat = youtube['channel_cat'])\n",
    "X = pd.get_dummies(new_data_selected, columns = ['channel_cat'])\n",
    "train, test = train_test_split(X, test_size=0.3, random_state=42)\n",
    "X_train = train.drop(columns=['view_count'])\n",
    "y_train = train['view_count']\n",
    "X_test = test.drop(columns=['view_count'])\n",
    "y_test = test['view_count']\n",
    "\n",
    "threshold = y_train.median()\n",
    "\n",
    "y_train_binary = (y_train > threshold).astype(int)\n",
    "y_test_binary = (y_test > threshold).astype(int)"
   ]
  },
  {
   "cell_type": "code",
   "execution_count": 334,
   "metadata": {},
   "outputs": [
    {
     "data": {
      "text/plain": [
       "1"
      ]
     },
     "execution_count": 334,
     "metadata": {},
     "output_type": "execute_result"
    }
   ],
   "source": [
    "log_reg_cv.fit(X_train, y_train_binary)\n",
    "opt_C = log_reg_cv.C_[0]\n",
    "opt_C"
   ]
  },
  {
   "cell_type": "code",
   "execution_count": 335,
   "metadata": {},
   "outputs": [
    {
     "data": {
      "text/plain": [
       "0.6168016629632285"
      ]
     },
     "execution_count": 335,
     "metadata": {},
     "output_type": "execute_result"
    }
   ],
   "source": [
    "log_reg_cv.score(X_test, y_test_binary)"
   ]
  },
  {
   "cell_type": "markdown",
   "metadata": {},
   "source": [
    "2. The dynamics of the two categories might differ a lot, and the two communities might value different properties of a video differently. For instance, for one community, a long duration might be more important, for the other one, a large picture width. Thus, having only a single weight for, e.g., the duration of a video, might not give the best results. Is there something smarter that you can do than simply including the category as a single one-hot-encoded feature to improve the classification performance? Implement your idea and compare the accuracy on the test set with that of the first model (from task B5.1)."
   ]
  },
  {
   "cell_type": "code",
   "execution_count": null,
   "metadata": {},
   "outputs": [],
   "source": [
    "# Separate both models"
   ]
  },
  {
   "cell_type": "markdown",
   "metadata": {},
   "source": [
    "# Task C: A map of the channels (Graphs)"
   ]
  },
  {
   "cell_type": "markdown",
   "metadata": {},
   "source": [
    "Your friend wants to map out the channels and represent their similarities. For this purpose, we have created two undirected and unweighted graphs for you, where in each graph, each channel has a node and similar channels have edges connecting them. In one graph, the similarity between two channels is based on how similar their video descriptions are, while in the other, the similarity is based on how similar their video tags are. We will call the former $G_{text}$ and the latter $G_{tags}$. You will be analyzing the two graphs loaded by running the cell below."
   ]
  },
  {
   "cell_type": "code",
   "execution_count": 336,
   "metadata": {},
   "outputs": [],
   "source": [
    "from networkx import from_numpy_array\n",
    "import json\n",
    "g_text_adj = np.loadtxt(open('data/g_text_adj.csv', 'r'), delimiter=',', skiprows=0) # similar video descriptions\n",
    "g_tags_adj = np.loadtxt(open('data/g_tags_adj.csv', 'r'), delimiter=',', skiprows=0) # similar tags\n",
    "channel_to_index = json.load(open('data/channel_indices.json', 'r'))\n",
    "g_text = from_numpy_array(g_text_adj)\n",
    "g_tags = from_numpy_array(g_tags_adj)"
   ]
  },
  {
   "cell_type": "markdown",
   "metadata": {},
   "source": [
    "## C1: Does YouTube have a content diversity problem?"
   ]
  },
  {
   "cell_type": "markdown",
   "metadata": {},
   "source": [
    "1. For each graph, calculate its diameter (i.e., the largest shortest-path length, where the maximization is done over all node pairs). What difference do you see? _Hint_: Don't worry if you get an error, just read the error message carefully."
   ]
  },
  {
   "cell_type": "code",
   "execution_count": 338,
   "metadata": {},
   "outputs": [],
   "source": [
    "import networkx as nx"
   ]
  },
  {
   "cell_type": "code",
   "execution_count": 339,
   "metadata": {},
   "outputs": [],
   "source": [
    "# Helper function for printing various graph properties\n",
    "def describe_graph(G):\n",
    "    print(nx.info(G))\n",
    "    if nx.is_connected(G):\n",
    "        print(\"Avg. Shortest Path Length: %.4f\" %nx.average_shortest_path_length(G))\n",
    "        print(\"Diameter: %.4f\" %nx.diameter(G)) # Longest shortest path\n",
    "    else:\n",
    "        print(\"Graph is not connected\")\n",
    "        print(\"Diameter and Avg shortest path length are not defined!\")\n",
    "    print(\"Sparsity: %.4f\" %nx.density(G))  # #edges/#edges-complete-graph\n",
    "    # #closed-triplets(3*#triangles)/#all-triplets\n",
    "    print(\"Global clustering coefficient aka Transitivity: %.4f\" %nx.transitivity(G))"
   ]
  },
  {
   "cell_type": "code",
   "execution_count": 342,
   "metadata": {},
   "outputs": [
    {
     "name": "stderr",
     "output_type": "stream",
     "text": [
      "C:\\Users\\camil\\AppData\\Local\\Temp\\ipykernel_10560\\4192365812.py:3: DeprecationWarning: info is deprecated and will be removed in version 3.0.\n",
      "\n",
      "  print(nx.info(G))\n"
     ]
    },
    {
     "name": "stdout",
     "output_type": "stream",
     "text": [
      "Graph with 195 nodes and 18056 edges\n",
      "Avg. Shortest Path Length: 1.0557\n",
      "Diameter: 2.0000\n",
      "Sparsity: 0.9546\n",
      "Global clustering coefficient aka Transitivity: 0.9668\n",
      "Infos graph Gtext: None \n",
      "\n",
      "Graph with 195 nodes and 18056 edges\n",
      "Graph is not connected\n",
      "Diameter and Avg shortest path length are not defined!\n",
      "Sparsity: 0.9546\n",
      "Global clustering coefficient aka Transitivity: 0.9692\n",
      "Infos graph Gtags: None \n",
      "\n"
     ]
    }
   ],
   "source": [
    "print(\"Infos graph Gtext:\", describe_graph(g_text), '\\n')\n",
    "print(\"Infos graph Gtags:\", describe_graph(g_tags), '\\n')"
   ]
  },
  {
   "attachments": {},
   "cell_type": "markdown",
   "metadata": {},
   "source": [
    "The second graph is not connected and thus does not have a defined diameter."
   ]
  },
  {
   "cell_type": "markdown",
   "metadata": {},
   "source": [
    "2. What does the diameter of $G_{text}$ say about the diversity of the channels’ contents? How about the diameter of $G_{tags}$?"
   ]
  },
  {
   "attachments": {},
   "cell_type": "markdown",
   "metadata": {},
   "source": [
    "The largest shortest-path length is only 2 so the channels' content is not very diversified. The diameter of Gtags is not defined as the graph is not connected so the tags are rather diverse."
   ]
  },
  {
   "cell_type": "markdown",
   "metadata": {},
   "source": [
    "3. Based on what you have calculated, which one has greater diversity: descriptions used by channels, or tags used by channels? Justify your answer."
   ]
  },
  {
   "attachments": {},
   "cell_type": "markdown",
   "metadata": {},
   "source": [
    "Tags because graph not connected."
   ]
  },
  {
   "cell_type": "markdown",
   "metadata": {},
   "source": [
    "4. Imagine that you want to **compare** content diversity between two sets of channels (i.e., you want to see which set of channels has more diverse content), and you have calculated a tag-based graph for each set. Do you think the diameter is a good measure for doing the comparison? Justify your answer."
   ]
  },
  {
   "attachments": {},
   "cell_type": "markdown",
   "metadata": {},
   "source": [
    "No, because as we saw, the diameter can end up being undefined for both, which implies that both are diverse but does not provide much of a comparison."
   ]
  },
  {
   "cell_type": "markdown",
   "metadata": {},
   "source": [
    "5. Back to our own two graphs. Based on $G_{text}$, for each category of channels, which channel is the one most representative of the contents of all channels in that category? In other words, for each category, if you needed to provide a summary of all channels in the category via one channel, which channel would you choose? Show us (us being the exam designers and your friend) the descriptions of this channel’s two most-viewed videos. What metric did you use for this purpose? Explain your choice."
   ]
  },
  {
   "cell_type": "code",
   "execution_count": 364,
   "metadata": {},
   "outputs": [],
   "source": [
    "# Get max element in the degree matrix:\n",
    "max_deg = max(g_text.degree, key=lambda x: x[1])"
   ]
  },
  {
   "cell_type": "code",
   "execution_count": 365,
   "metadata": {},
   "outputs": [
    {
     "data": {
      "text/plain": [
       "DegreeView({0: 192, 1: 196, 2: 195, 3: 157, 4: 184, 5: 192, 6: 193, 7: 188, 8: 114, 9: 180, 10: 194, 11: 192, 12: 179, 13: 160, 14: 186, 15: 194, 16: 194, 17: 192, 18: 194, 19: 191, 20: 181, 21: 190, 22: 191, 23: 184, 24: 190, 25: 192, 26: 192, 27: 192, 28: 178, 29: 187, 30: 189, 31: 195, 32: 195, 33: 195, 34: 193, 35: 85, 36: 189, 37: 191, 38: 169, 39: 183, 40: 192, 41: 176, 42: 194, 43: 194, 44: 194, 45: 188, 46: 189, 47: 187, 48: 183, 49: 138, 50: 190, 51: 196, 52: 176, 53: 187, 54: 195, 55: 195, 56: 196, 57: 189, 58: 149, 59: 191, 60: 190, 61: 190, 62: 191, 63: 194, 64: 194, 65: 193, 66: 171, 67: 196, 68: 193, 69: 184, 70: 195, 71: 195, 72: 193, 73: 194, 74: 195, 75: 191, 76: 190, 77: 192, 78: 191, 79: 186, 80: 192, 81: 193, 82: 196, 83: 195, 84: 194, 85: 193, 86: 164, 87: 193, 88: 185, 89: 190, 90: 194, 91: 185, 92: 191, 93: 194, 94: 160, 95: 188, 96: 193, 97: 178, 98: 191, 99: 187, 100: 195, 101: 188, 102: 181, 103: 184, 104: 196, 105: 193, 106: 178, 107: 191, 108: 191, 109: 191, 110: 192, 111: 67, 112: 195, 113: 193, 114: 185, 115: 194, 116: 193, 117: 190, 118: 194, 119: 191, 120: 193, 121: 182, 122: 195, 123: 193, 124: 179, 125: 182, 126: 172, 127: 193, 128: 176, 129: 191, 130: 190, 131: 186, 132: 192, 133: 194, 134: 190, 135: 194, 136: 182, 137: 195, 138: 195, 139: 193, 140: 193, 141: 189, 142: 174, 143: 192, 144: 194, 145: 189, 146: 191, 147: 194, 148: 186, 149: 130, 150: 180, 151: 194, 152: 194, 153: 195, 154: 193, 155: 195, 156: 54, 157: 180, 158: 195, 159: 182, 160: 195, 161: 173, 162: 194, 163: 191, 164: 190, 165: 196, 166: 187, 167: 193, 168: 193, 169: 195, 170: 190, 171: 195, 172: 187, 173: 195, 174: 184, 175: 189, 176: 194, 177: 193, 178: 167, 179: 66, 180: 194, 181: 183, 182: 195, 183: 167, 184: 186, 185: 189, 186: 193, 187: 181, 188: 168, 189: 192, 190: 188, 191: 190, 192: 193, 193: 191, 194: 191})"
      ]
     },
     "execution_count": 365,
     "metadata": {},
     "output_type": "execute_result"
    }
   ],
   "source": [
    "g_text.degree"
   ]
  },
  {
   "cell_type": "code",
   "execution_count": 368,
   "metadata": {},
   "outputs": [
    {
     "name": "stdout",
     "output_type": "stream",
     "text": [
      "Channel with most connections: Desi Perkins\n"
     ]
    }
   ],
   "source": [
    "# Get name corresponding to max_deg from dict \"channel_to_index\":\n",
    "for key, value in channel_to_index.items():\n",
    "    if value == max_deg[0]:\n",
    "        print(\"Channel with most connections:\", key)"
   ]
  },
  {
   "cell_type": "code",
   "execution_count": 369,
   "metadata": {},
   "outputs": [
    {
     "data": {
      "text/html": [
       "<div>\n",
       "<style scoped>\n",
       "    .dataframe tbody tr th:only-of-type {\n",
       "        vertical-align: middle;\n",
       "    }\n",
       "\n",
       "    .dataframe tbody tr th {\n",
       "        vertical-align: top;\n",
       "    }\n",
       "\n",
       "    .dataframe thead th {\n",
       "        text-align: right;\n",
       "    }\n",
       "</style>\n",
       "<table border=\"1\" class=\"dataframe\">\n",
       "  <thead>\n",
       "    <tr style=\"text-align: right;\">\n",
       "      <th></th>\n",
       "      <th>channel</th>\n",
       "      <th>upload_date</th>\n",
       "      <th>title</th>\n",
       "      <th>tags</th>\n",
       "      <th>duration</th>\n",
       "      <th>view_count</th>\n",
       "      <th>average_rating</th>\n",
       "      <th>height</th>\n",
       "      <th>width</th>\n",
       "      <th>channel_cat</th>\n",
       "    </tr>\n",
       "  </thead>\n",
       "  <tbody>\n",
       "    <tr>\n",
       "      <th>137477</th>\n",
       "      <td>Desi Perkins</td>\n",
       "      <td>2014-05-04</td>\n",
       "      <td>EYEBROW TUTORIAL</td>\n",
       "      <td>['how to', 'makeup', 'tutorial']</td>\n",
       "      <td>528.0</td>\n",
       "      <td>16851339.0</td>\n",
       "      <td>4.922917</td>\n",
       "      <td>1080.0</td>\n",
       "      <td>1920.0</td>\n",
       "      <td>Howto &amp; Style</td>\n",
       "    </tr>\n",
       "    <tr>\n",
       "      <th>137267</th>\n",
       "      <td>Desi Perkins</td>\n",
       "      <td>2017-08-16</td>\n",
       "      <td>KIM KARDASHIAN WEST MAKEUP TUTORIAL + NEW KKW ...</td>\n",
       "      <td>[]</td>\n",
       "      <td>1499.0</td>\n",
       "      <td>8925152.0</td>\n",
       "      <td>4.888759</td>\n",
       "      <td>1080.0</td>\n",
       "      <td>1920.0</td>\n",
       "      <td>Howto &amp; Style</td>\n",
       "    </tr>\n",
       "  </tbody>\n",
       "</table>\n",
       "</div>"
      ],
      "text/plain": [
       "             channel upload_date  \\\n",
       "137477  Desi Perkins  2014-05-04   \n",
       "137267  Desi Perkins  2017-08-16   \n",
       "\n",
       "                                                    title  \\\n",
       "137477                                   EYEBROW TUTORIAL   \n",
       "137267  KIM KARDASHIAN WEST MAKEUP TUTORIAL + NEW KKW ...   \n",
       "\n",
       "                                    tags  duration  view_count  \\\n",
       "137477  ['how to', 'makeup', 'tutorial']     528.0  16851339.0   \n",
       "137267                                []    1499.0   8925152.0   \n",
       "\n",
       "        average_rating  height   width    channel_cat  \n",
       "137477        4.922917  1080.0  1920.0  Howto & Style  \n",
       "137267        4.888759  1080.0  1920.0  Howto & Style  "
      ]
     },
     "execution_count": 369,
     "metadata": {},
     "output_type": "execute_result"
    }
   ],
   "source": [
    "youtube.loc[youtube.channel == 'Desi Perkins'].sort_values('view_count', ascending=False).head(2)"
   ]
  },
  {
   "attachments": {},
   "cell_type": "markdown",
   "metadata": {},
   "source": [
    "The most representative channel in terms of contents can be defined as the node having the maximum degree value: Here, Desi Perkins."
   ]
  },
  {
   "cell_type": "markdown",
   "metadata": {},
   "source": [
    "## C2: Going back to categories again"
   ]
  },
  {
   "cell_type": "markdown",
   "metadata": {},
   "source": [
    "1. We want to use the two graphs to cluster channels from the same category together, and we want to compare their effectiveness at doing so. Use Kernighan-Lin bisection in the networkx package (`networkx.algorithms.community.kernighan_lin_bisection`) to divide each graph into two communities. Use 42 as the random seed. For each graph, show how many members of each category fall into each of the two communities."
   ]
  },
  {
   "cell_type": "code",
   "execution_count": 380,
   "metadata": {},
   "outputs": [],
   "source": [
    "from networkx.algorithms.community import kernighan_lin_bisection as klin\n",
    "pair1_txt, pair2_txt = klin(g_text, seed = 42)\n",
    "pair1_tags, pair2_tags = klin(g_tags, seed = 42)"
   ]
  },
  {
   "cell_type": "code",
   "execution_count": 388,
   "metadata": {},
   "outputs": [],
   "source": [
    "# Get name corresponding to indices from dict \"channel_to_index\":\n",
    "Names_comm1_txt = []\n",
    "Names_comm2_txt = []\n",
    "Names_comm1_tags = []\n",
    "Names_comm2_tags = []\n",
    "for key, value in channel_to_index.items():\n",
    "    if value in pair1_txt:\n",
    "        Names_comm1_txt.append(key)\n",
    "    elif value in pair2_txt:\n",
    "        Names_comm2_txt.append(key)\n",
    "    if value in pair1_tags:\n",
    "        Names_comm1_tags.append(key)\n",
    "    elif value in pair2_tags:\n",
    "        Names_comm2_tags.append(key)"
   ]
  },
  {
   "cell_type": "code",
   "execution_count": 414,
   "metadata": {},
   "outputs": [
    {
     "name": "stdout",
     "output_type": "stream",
     "text": [
      "Howto & Style:  Desi Perkins \n",
      "\n",
      "Gaming:  SSundee \n",
      "\n",
      "Howto & Style:  BRICO SYMPA \n",
      "\n",
      "Gaming:  Fe4RLess \n",
      "\n",
      "Howto & Style:  YourHealth \n",
      "\n",
      "Howto & Style:  alpha m. \n",
      "\n",
      "Gaming:  Aphmau \n",
      "\n",
      "Gaming:  Miniminter \n",
      "\n",
      "Howto & Style:  FitnessBlender \n",
      "\n",
      "Howto & Style:  SixPackAbs.com \n",
      "\n",
      "Gaming:  FGTeeV \n",
      "\n",
      "Gaming:  Clash of Clans \n",
      "\n",
      "Gaming:  MoreAliA \n",
      "\n",
      "Howto & Style:  Carli Bybel \n",
      "\n",
      "Gaming:  UnspeakableGaming \n",
      "\n",
      "Gaming:  aLexBY11 \n",
      "\n",
      "Gaming:  Sernandoe \n",
      "\n",
      "Howto & Style:  Xyz Gyan \n",
      "\n",
      "Gaming:  PlayStation \n",
      "\n",
      "Gaming:  gameranx \n",
      "\n",
      "Gaming:  Prestige Clips \n",
      "\n",
      "Gaming:  Mini Ladd \n",
      "\n",
      "Gaming:  Rockstar Games \n",
      "\n",
      "Gaming:  DeGoBooM \n",
      "\n",
      "Howto & Style:  Creative Channel \n",
      "\n",
      "Gaming:  ExplodingTNT \n",
      "\n",
      "Howto & Style:  Tasty \n",
      "\n",
      "Gaming:  Lachlan \n",
      "\n",
      "Gaming:  Bajan Canadian \n",
      "\n",
      "Gaming:  videogamedunkey \n",
      "\n",
      "Howto & Style:  Pipe Cleaner Crafts B \n",
      "\n",
      "Gaming:  SeaNanners Gaming Channel \n",
      "\n",
      "Howto & Style:  Shruti Arjun Anand \n",
      "\n",
      "Howto & Style:  Mr. Kate \n",
      "\n",
      "Gaming:  Clash Royale \n",
      "\n",
      "Howto & Style:  Ingrid Nilsen \n",
      "\n",
      "Gaming:  Azerrz \n",
      "\n",
      "Gaming:  Mumbo Jumbo \n",
      "\n",
      "Howto & Style:  Teachingmensfashion \n",
      "\n",
      "Gaming:  FaZe Clan \n",
      "\n",
      "Gaming:  Sky Does Everything \n",
      "\n",
      "Howto & Style:  jeffreestar \n",
      "\n",
      "Gaming:  I AM WILDCAT \n",
      "\n",
      "Howto & Style:  ThreadBanger \n",
      "\n",
      "Gaming:  ItsFunneh \n",
      "\n",
      "Howto & Style:  Laura Lee \n",
      "\n",
      "Howto & Style:  Antonio Garza \n",
      "\n",
      "Howto & Style:  So Yummy \n",
      "\n",
      "Gaming:  PopularMMOs \n",
      "\n",
      "Gaming:  BCC Trolling \n",
      "\n",
      "Howto & Style:  Michelle Phan \n",
      "\n",
      "Gaming:  Daithi De Nogla \n",
      "\n",
      "Howto & Style:  LaurDIY \n",
      "\n",
      "Gaming:  Frost Diamond \n",
      "\n",
      "Gaming:  Markiplier \n",
      "\n",
      "Gaming:  speedyw03 \n",
      "\n",
      "Gaming:  CaptainSparklez \n",
      "\n",
      "Howto & Style:  Anaysa \n",
      "\n",
      "Gaming:  LDShadowLady \n",
      "\n",
      "Howto & Style:  Tipsy Bartender \n",
      "\n",
      "Howto & Style:  Howcast \n",
      "\n",
      "Howto & Style:  TsMadaan \n",
      "\n",
      "Gaming:  Dynamo Gaming \n",
      "\n",
      "Howto & Style:  Indian Health \n",
      "\n",
      "Gaming:  Muselk \n",
      "\n",
      "Gaming:  LazarBeam \n",
      "\n",
      "Howto & Style:  ATHLEAN-X™ \n",
      "\n",
      "Gaming:  TheSyndicateProject \n",
      "\n",
      "Gaming:  DanTDM \n",
      "\n",
      "Howto & Style:  BRIGHT SIDE \n",
      "\n",
      "Howto & Style:  Homemade solutions \n",
      "\n",
      "Gaming:  InquisitorMaster \n",
      "\n",
      "Howto & Style:  Zoella \n",
      "\n",
      "Howto & Style:  MeLlamanFredy \n",
      "\n",
      "Howto & Style:  Sadhguru \n",
      "\n",
      "Gaming:  JeromeASF \n",
      "\n",
      "Howto & Style:  NikkieTutorials \n",
      "\n",
      "Howto & Style:  Wayne Goss \n",
      "\n",
      "Gaming:  H2ODelirious \n",
      "\n",
      "Howto & Style:  Health Tips for You \n",
      "\n",
      "Howto & Style:  Blossom \n",
      "\n",
      "Gaming:  Lui Calibre \n",
      "\n",
      "Gaming:  FaZe Apex \n",
      "\n",
      "Howto & Style:  Natalies Outlet \n",
      "\n",
      "Howto & Style:  DaveHax \n",
      "\n",
      "Gaming:  Call of Duty \n",
      "\n",
      "Howto & Style:  5-Minute Crafts \n",
      "\n",
      "Howto & Style:  Kandee Johnson \n",
      "\n",
      "Gaming:  The Game Theorists \n",
      "\n",
      "Gaming:  Thinknoodles \n",
      "\n",
      "Gaming:  windy31 \n",
      "\n",
      "Gaming:  FaZe Rain \n",
      "\n",
      "Gaming:  IGN \n",
      "\n",
      "Gaming:  Typical Gamer \n",
      "\n",
      "Howto & Style:  Grandpa Kitchen \n",
      "\n",
      "Howto & Style:  SaraBeautyCorner - DIY, Comedy, Makeup, Nail Art \n",
      "\n",
      "Howto & Style:  Yoga With Adriene \n",
      "\n"
     ]
    }
   ],
   "source": [
    "for x in Names_comm1_txt:\n",
    "    if youtube.loc[youtube.channel == x]['channel_cat'].unique() == 'Gaming':\n",
    "        print(\"Gaming: \", x, '\\n')\n",
    "    elif youtube.loc[youtube.channel == x]['channel_cat'].unique() == 'Howto & Style': \n",
    "        print(\"Howto & Style: \", x, '\\n')"
   ]
  },
  {
   "cell_type": "code",
   "execution_count": 397,
   "metadata": {},
   "outputs": [],
   "source": [
    "num_comm_1_gaming_txt = []\n",
    "num_comm_1_howto_txt = []\n",
    "num_comm_2_gaming_txt = []\n",
    "num_comm_2_howto_txt = []\n",
    "num_comm_1_gaming_tags = []\n",
    "num_comm_1_howto_tags = []\n",
    "num_comm_2_gaming_tags = []\n",
    "num_comm_2_howto_tags = []\n",
    "\n",
    "for x in Names_comm1_txt:\n",
    "    if youtube.loc[youtube.channel == x]['channel_cat'].unique() == 'Gaming': \n",
    "        num_comm_1_gaming_txt.append(x) \n",
    "    elif youtube.loc[youtube.channel == x]['channel_cat'].unique() == 'Howto & Style': \n",
    "        num_comm_1_howto_txt.append(x)\n",
    "for x in Names_comm2_txt:\n",
    "    if youtube.loc[youtube.channel == x]['channel_cat'].unique() == 'Gaming':\n",
    "        num_comm_2_gaming_txt.append(x) \n",
    "    elif youtube.loc[youtube.channel == x]['channel_cat'].unique() == 'Howto & Style': \n",
    "        num_comm_2_howto_txt.append(x)\n",
    "for x in Names_comm1_tags:\n",
    "    if youtube.loc[youtube.channel == x]['channel_cat'].unique() == 'Gaming':\n",
    "        num_comm_1_gaming_tags.append(x) \n",
    "    elif youtube.loc[youtube.channel == x]['channel_cat'].unique() == 'Howto & Style': \n",
    "        num_comm_1_howto_tags.append(x)\n",
    "for x in Names_comm2_tags:\n",
    "    if youtube.loc[youtube.channel == x]['channel_cat'].unique() == 'Gaming':\n",
    "        num_comm_2_gaming_tags.append(x) \n",
    "    elif youtube.loc[youtube.channel == x]['channel_cat'].unique() == 'Howto & Style': \n",
    "        num_comm_2_howto_tags.append(x)\n"
   ]
  },
  {
   "cell_type": "code",
   "execution_count": 416,
   "metadata": {},
   "outputs": [
    {
     "name": "stdout",
     "output_type": "stream",
     "text": [
      "Gtext Gaming: 53 46 Gtext Howto:  44 52\n",
      "Gtags Gaming: 81 16 Gtags Howto:  18 80\n"
     ]
    }
   ],
   "source": [
    "# For Gtext:\n",
    "print(\"Gtext Gaming:\", len(num_comm_1_gaming_txt), len(num_comm_2_gaming_txt), \"Gtext Howto: \", len(num_comm_1_howto_txt), len(num_comm_2_howto_txt))\n",
    "# For Gtags:\n",
    "print(\"Gtags Gaming:\", len(num_comm_1_gaming_tags), len(num_comm_1_howto_tags), \"Gtags Howto: \", len(num_comm_2_gaming_tags), len(num_comm_2_howto_tags))"
   ]
  },
  {
   "cell_type": "markdown",
   "metadata": {},
   "source": [
    "2. If one of these graphs were ideal for this clustering task, what would the resulting communities look like? If it were the absolute worst possible graph for the task, what would the resulting communities look like?"
   ]
  },
  {
   "attachments": {},
   "cell_type": "markdown",
   "metadata": {},
   "source": [
    "The ideal communities would be such that each would contain only **one** category. The worst communities would be evenly split between the two categories (i.e. 50% gaming and 50% howto)."
   ]
  },
  {
   "cell_type": "markdown",
   "metadata": {},
   "source": [
    "3. Calculate the probability $P(community|category)$ for each community and category within each graph. Design a metric, using the four $P(community|category)$ values in a graph, whose value would be 1 for the ideal graph and 0 for the worst graph. Calculate this metric for both graphs and compare the two. What do the results say about how representative tags and descriptions are regarding the channel categories? Are tags better suited, or descriptions?"
   ]
  },
  {
   "cell_type": "code",
   "execution_count": 399,
   "metadata": {},
   "outputs": [],
   "source": [
    "pcomm1_txt_gaming = len(num_comm_1_gaming_txt) / len(Names_comm1_txt)\n",
    "pcomm2_txt_gaming = len(num_comm_2_gaming_txt) / len(Names_comm2_txt)\n",
    "pcomm1_tags_gaming = len(num_comm_1_gaming_tags) / len(Names_comm1_tags)\n",
    "pcomm2_tags_gaming = len(num_comm_2_gaming_tags) / len(Names_comm2_tags)\n",
    "pcomm1_txt_howto = len(num_comm_1_howto_txt) / len(Names_comm1_txt)\n",
    "pcomm2_txt_howto = len(num_comm_2_howto_txt) / len(Names_comm2_txt)\n",
    "pcomm1_tags_howto = len(num_comm_1_howto_tags) / len(Names_comm1_tags)\n",
    "pcomm2_tags_howto = len(num_comm_2_howto_tags) / len(Names_comm2_tags)"
   ]
  },
  {
   "cell_type": "code",
   "execution_count": 417,
   "metadata": {},
   "outputs": [
    {
     "name": "stdout",
     "output_type": "stream",
     "text": [
      "Gtext Gaming: 0.5463917525773195 0.46938775510204084 Gtext Howto:  0.4536082474226804 0.5306122448979592\n",
      "Gtags Gaming: 0.8350515463917526 0.1836734693877551 Gtags Howto:  0.16494845360824742 0.8163265306122449\n"
     ]
    }
   ],
   "source": [
    "# For Gtext:\n",
    "print(\"Gtext Gaming:\", pcomm1_txt_gaming, pcomm2_txt_gaming, \"Gtext Howto: \", pcomm1_txt_howto, pcomm2_txt_howto)\n",
    "# For Gtags:\n",
    "print(\"Gtags Gaming:\", pcomm1_tags_gaming, pcomm2_tags_gaming, \"Gtags Howto: \", pcomm1_tags_howto, pcomm2_tags_howto)"
   ]
  },
  {
   "attachments": {},
   "cell_type": "markdown",
   "metadata": {},
   "source": [
    "As we can see, the Gtext possesses more balanced probabilities between both communities while Gtags is able to capture more this distinction between communities and categories."
   ]
  },
  {
   "cell_type": "code",
   "execution_count": 404,
   "metadata": {},
   "outputs": [],
   "source": [
    "cats_df = youtube.loc[(youtube.channel_cat == 'Gaming') | (youtube.channel_cat == 'Howto & Style'), \n",
    "                   ['channel', 'channel_cat']].drop_duplicates(subset='channel')\n",
    "cats_dict = {channel_to_index[cats_df.channel.values[i]]: cats_df.channel_cat.values[i] \n",
    "             for i in range(cats_df.shape[0])}\n",
    "cats_dict = {k:1 if v == 'Gaming' else 0 for k,v in cats_dict.items()} # just replaces 'Gaming' by 1 and 'Howto & Style' by 0"
   ]
  },
  {
   "cell_type": "code",
   "execution_count": 406,
   "metadata": {},
   "outputs": [
    {
     "data": {
      "text/html": [
       "<div>\n",
       "<style scoped>\n",
       "    .dataframe tbody tr th:only-of-type {\n",
       "        vertical-align: middle;\n",
       "    }\n",
       "\n",
       "    .dataframe tbody tr th {\n",
       "        vertical-align: top;\n",
       "    }\n",
       "\n",
       "    .dataframe thead th {\n",
       "        text-align: right;\n",
       "    }\n",
       "</style>\n",
       "<table border=\"1\" class=\"dataframe\">\n",
       "  <thead>\n",
       "    <tr style=\"text-align: right;\">\n",
       "      <th></th>\n",
       "      <th>channel</th>\n",
       "      <th>channel_cat</th>\n",
       "    </tr>\n",
       "  </thead>\n",
       "  <tbody>\n",
       "    <tr>\n",
       "      <th>0</th>\n",
       "      <td>PewDiePie</td>\n",
       "      <td>Gaming</td>\n",
       "    </tr>\n",
       "    <tr>\n",
       "      <th>999</th>\n",
       "      <td>Marshmello</td>\n",
       "      <td>Gaming</td>\n",
       "    </tr>\n",
       "    <tr>\n",
       "      <th>1369</th>\n",
       "      <td>VanossGaming</td>\n",
       "      <td>Gaming</td>\n",
       "    </tr>\n",
       "    <tr>\n",
       "      <th>2369</th>\n",
       "      <td>Markiplier</td>\n",
       "      <td>Gaming</td>\n",
       "    </tr>\n",
       "    <tr>\n",
       "      <th>3369</th>\n",
       "      <td>jacksepticeye</td>\n",
       "      <td>Gaming</td>\n",
       "    </tr>\n",
       "    <tr>\n",
       "      <th>...</th>\n",
       "      <td>...</td>\n",
       "      <td>...</td>\n",
       "    </tr>\n",
       "    <tr>\n",
       "      <th>136536</th>\n",
       "      <td>Creative Channel</td>\n",
       "      <td>Howto &amp; Style</td>\n",
       "    </tr>\n",
       "    <tr>\n",
       "      <th>137150</th>\n",
       "      <td>Desi Perkins</td>\n",
       "      <td>Howto &amp; Style</td>\n",
       "    </tr>\n",
       "    <tr>\n",
       "      <th>137508</th>\n",
       "      <td>Indian Health</td>\n",
       "      <td>Howto &amp; Style</td>\n",
       "    </tr>\n",
       "    <tr>\n",
       "      <th>138000</th>\n",
       "      <td>POPSUGAR Fitness</td>\n",
       "      <td>Howto &amp; Style</td>\n",
       "    </tr>\n",
       "    <tr>\n",
       "      <th>139000</th>\n",
       "      <td>cutepolish</td>\n",
       "      <td>Howto &amp; Style</td>\n",
       "    </tr>\n",
       "  </tbody>\n",
       "</table>\n",
       "<p>195 rows × 2 columns</p>\n",
       "</div>"
      ],
      "text/plain": [
       "                 channel    channel_cat\n",
       "0              PewDiePie         Gaming\n",
       "999           Marshmello         Gaming\n",
       "1369        VanossGaming         Gaming\n",
       "2369          Markiplier         Gaming\n",
       "3369       jacksepticeye         Gaming\n",
       "...                  ...            ...\n",
       "136536  Creative Channel  Howto & Style\n",
       "137150      Desi Perkins  Howto & Style\n",
       "137508     Indian Health  Howto & Style\n",
       "138000  POPSUGAR Fitness  Howto & Style\n",
       "139000        cutepolish  Howto & Style\n",
       "\n",
       "[195 rows x 2 columns]"
      ]
     },
     "execution_count": 406,
     "metadata": {},
     "output_type": "execute_result"
    }
   ],
   "source": [
    "cats_df"
   ]
  },
  {
   "attachments": {},
   "cell_type": "markdown",
   "metadata": {},
   "source": [
    "For the metric, one could be:\n",
    "$$1 - 2*min_{community, category}\\{P(community|category)\\}$$\n",
    "\n",
    "which would yield 1 if one of the probabilities is 0, and yield 0 if they are all 0.5.\n",
    "\n",
    "For the two graphs we have, they can simply spot the minimum and calculate this metric, which would yield the following:"
   ]
  },
  {
   "cell_type": "code",
   "execution_count": null,
   "metadata": {},
   "outputs": [],
   "source": [
    "#Gtext Gaming: 0.5463917525773195 0.46938775510204084 Gtext Howto: 0.4536082474226804 0.5306122448979592\n",
    "#Gtags Gaming: 0.8350515463917526 0.1836734693877551 Gtags Howto: 0.16494845360824742 0.8163265306122449"
   ]
  },
  {
   "cell_type": "code",
   "execution_count": 418,
   "metadata": {},
   "outputs": [
    {
     "data": {
      "text/plain": [
       "0.09278350515463918"
      ]
     },
     "execution_count": 418,
     "metadata": {},
     "output_type": "execute_result"
    }
   ],
   "source": [
    "# G_text\n",
    "1 - 2*(0.4536082474226804)"
   ]
  },
  {
   "cell_type": "code",
   "execution_count": null,
   "metadata": {},
   "outputs": [],
   "source": [
    "# G_tags\n",
    "1 - 2*.1458"
   ]
  },
  {
   "attachments": {},
   "cell_type": "markdown",
   "metadata": {},
   "source": [
    "Based on this, $G_{tags}$ is quite superior in its discrimination between the two categories."
   ]
  },
  {
   "cell_type": "markdown",
   "metadata": {},
   "source": [
    "4. The Kernighan-Lin bisection you used above performs a min-edge cut: It attempts to partition the nodes of the graph into two sets of almost-equal size by deleting as few edges as possible. It starts off by creating a random partition of the nodes of the graph into two sets A and B that are almost equal in size, and then iteratively and in a greedy fashion moves nodes between A and B to reduce the number of edges between A and B. Show at least one toy example of a graph where the initialization could also be the final result. (Hint: Think of how, as we explained, the bisection algorithm relies on a minimum edge cut with a random initialization; under what circumstances could the original A and B be the best partition given that graph?)"
   ]
  },
  {
   "attachments": {},
   "cell_type": "markdown",
   "metadata": {},
   "source": [
    "A case where the initialisation would also be the final result would be when we have a graph with two connected components, and where each community in the initialisation is one of the two connected components. Since this is a bipartition with no edge deletions, it essentially is a local minimum of the algorithm and is also the final result."
   ]
  }
 ],
 "metadata": {
  "kernelspec": {
   "display_name": "ada",
   "language": "python",
   "name": "python3"
  },
  "language_info": {
   "codemirror_mode": {
    "name": "ipython",
    "version": 3
   },
   "file_extension": ".py",
   "mimetype": "text/x-python",
   "name": "python",
   "nbconvert_exporter": "python",
   "pygments_lexer": "ipython3",
   "version": "3.9.13 (main, Aug 25 2022, 23:51:50) [MSC v.1916 64 bit (AMD64)]"
  },
  "vscode": {
   "interpreter": {
    "hash": "8a04086ede2c9fba8dded5ae1d3862c5ce141bc2778c1114f47c151057d7c332"
   }
  }
 },
 "nbformat": 4,
 "nbformat_minor": 4
}
